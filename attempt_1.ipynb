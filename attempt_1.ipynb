{
 "cells": [
  {
   "cell_type": "code",
   "execution_count": 1,
   "id": "8060af62-adc6-405e-abaf-767db593249c",
   "metadata": {},
   "outputs": [],
   "source": [
    "import os"
   ]
  },
  {
   "cell_type": "code",
   "execution_count": 2,
   "id": "bf60cdf1-fdaa-45ed-9bc2-fbf7ab1244de",
   "metadata": {},
   "outputs": [
    {
     "name": "stdout",
     "output_type": "stream",
     "text": [
      "hi\n"
     ]
    }
   ],
   "source": [
    "print('hi')"
   ]
  },
  {
   "cell_type": "code",
   "execution_count": 3,
   "id": "17974ef6-0d80-4ff6-9950-494009f8e851",
   "metadata": {},
   "outputs": [
    {
     "name": "stdout",
     "output_type": "stream",
     "text": [
      "hello\n"
     ]
    }
   ],
   "source": [
    "print('hello')"
   ]
  },
  {
   "cell_type": "code",
   "execution_count": 4,
   "id": "626a60ae-75b6-46d6-a4f8-74460de3eac1",
   "metadata": {},
   "outputs": [],
   "source": [
    "import time\n",
    "time.sleep(3)"
   ]
  },
  {
   "cell_type": "code",
   "execution_count": 5,
   "id": "57e1034b-0d6d-4371-8bf9-dc081d06b9db",
   "metadata": {},
   "outputs": [
    {
     "data": {
      "text/plain": [
       "'Hello tim!'"
      ]
     },
     "execution_count": 5,
     "metadata": {},
     "output_type": "execute_result"
    }
   ],
   "source": [
    "def say_hello(recipient):\n",
    "    return 'Hello {}!'.format(recipient)\n",
    "say_hello('tim')"
   ]
  },
  {
   "cell_type": "code",
   "execution_count": 6,
   "id": "6446fc10-04ca-49a5-8af6-d669f4006714",
   "metadata": {},
   "outputs": [],
   "source": [
    "#This is a level 1 heading"
   ]
  },
  {
   "cell_type": "code",
   "execution_count": 7,
   "id": "5057f794-c247-434f-bb2b-ccaa9e446007",
   "metadata": {},
   "outputs": [],
   "source": [
    "##This is a level 2 heading"
   ]
  },
  {
   "cell_type": "code",
   "execution_count": 8,
   "id": "ca2b0b2a-2bc8-4252-8450-bdfee56a2769",
   "metadata": {},
   "outputs": [],
   "source": [
    "import numpy as np\n",
    "def square(x):\n",
    "    return x*x\n"
   ]
  },
  {
   "cell_type": "code",
   "execution_count": 15,
   "id": "18cf67d1-38ac-42ef-a3b1-0f96a6a77f2b",
   "metadata": {},
   "outputs": [
    {
     "name": "stdout",
     "output_type": "stream",
     "text": [
      "3 squared is 27\n"
     ]
    }
   ],
   "source": [
    "x = np.random.randint(1,10)\n",
    "y = x**3\n",
    "print('%d squared is %d' % (x,y))"
   ]
  },
  {
   "cell_type": "code",
   "execution_count": 16,
   "id": "a0b56865-46e2-47ec-87f6-a6050c44ada6",
   "metadata": {},
   "outputs": [
    {
     "name": "stdout",
     "output_type": "stream",
     "text": [
      "is 3 sqquared 27?\n"
     ]
    }
   ],
   "source": [
    "print('is %d sqquared %d?' % (x,y))"
   ]
  },
  {
   "cell_type": "code",
   "execution_count": 17,
   "id": "649eb877-7b5d-45d3-8e53-d696615eccf0",
   "metadata": {},
   "outputs": [
    {
     "name": "stdout",
     "output_type": "stream",
     "text": [
      "is 3 tt 27?\n"
     ]
    }
   ],
   "source": [
    "print('is %d tt %d?' % (x,y))"
   ]
  },
  {
   "cell_type": "code",
   "execution_count": 11,
   "id": "a0b8b9ad-ab79-4fc4-bef8-dcc145956dcc",
   "metadata": {},
   "outputs": [
    {
     "name": "stdout",
     "output_type": "stream",
     "text": [
      "is 3 squared 10?\n"
     ]
    }
   ],
   "source": [
    "y=10\n",
    "print ('is %d squared %d?' % (x,y))"
   ]
  },
  {
   "cell_type": "code",
   "execution_count": 12,
   "id": "183caa28-3995-46ba-babe-60039d1806a4",
   "metadata": {},
   "outputs": [
    {
     "name": "stdout",
     "output_type": "stream",
     "text": [
      "hello\n"
     ]
    }
   ],
   "source": [
    "print ('hello')\n"
   ]
  },
  {
   "cell_type": "code",
   "execution_count": 22,
   "id": "5c4cff53-b3a0-4aa3-ad85-58de0a6890fe",
   "metadata": {},
   "outputs": [],
   "source": [
    "import pandas as pd\n",
    "import matplotlib.pyplot as plt\n",
    "import seaborn as sns\n",
    "sns.set(style=\"darkgrid\")"
   ]
  },
  {
   "cell_type": "code",
   "execution_count": 24,
   "id": "055db0ee-ac18-4fcb-982c-438acaae012e",
   "metadata": {},
   "outputs": [],
   "source": [
    "import uproot"
   ]
  },
  {
   "cell_type": "code",
   "execution_count": 1,
   "id": "70537dc6-24da-43bf-9080-38f18c0fd2cb",
   "metadata": {},
   "outputs": [],
   "source": [
    "import numpy as np"
   ]
  },
  {
   "cell_type": "code",
   "execution_count": 2,
   "id": "32f79cdf-9821-48ad-9aa3-319fdeb2c58a",
   "metadata": {},
   "outputs": [],
   "source": [
    "import uproot\n"
   ]
  },
  {
   "cell_type": "code",
   "execution_count": 3,
   "id": "e4a11ff8-f122-4a5e-a922-4dec1b8f9ddf",
   "metadata": {},
   "outputs": [],
   "source": [
    "file = uproot.open(\"/Users/deep/Documents/mc_v14-4.0GeV-1e-target_photonuclear_run1_t1692626142.root\")"
   ]
  },
  {
   "cell_type": "code",
   "execution_count": 4,
   "id": "3f08f736-ad93-4d5b-8a36-f86d6119b33b",
   "metadata": {},
   "outputs": [
    {
     "data": {
      "text/plain": [
       "['LDMX_Events;1', 'LDMX_Run;1']"
      ]
     },
     "execution_count": 4,
     "metadata": {},
     "output_type": "execute_result"
    }
   ],
   "source": [
    "file.keys()\n"
   ]
  },
  {
   "cell_type": "code",
   "execution_count": 5,
   "id": "a436b162-da92-4aaf-a5e7-10d6832b153f",
   "metadata": {},
   "outputs": [
    {
     "data": {
      "text/plain": [
       "['EventHeader',\n",
       " 'EventHeader/eventNumber_',\n",
       " 'EventHeader/run_',\n",
       " 'EventHeader/timestamp_',\n",
       " 'EventHeader/timestamp_/timestamp_.fSec',\n",
       " 'EventHeader/timestamp_/timestamp_.fNanoSec',\n",
       " 'EventHeader/weight_',\n",
       " 'EventHeader/isRealData_',\n",
       " 'EventHeader/intParameters_',\n",
       " 'EventHeader/intParameters_/intParameters_.first',\n",
       " 'EventHeader/intParameters_/intParameters_.second',\n",
       " 'EventHeader/floatParameters_',\n",
       " 'EventHeader/floatParameters_/floatParameters_.first',\n",
       " 'EventHeader/floatParameters_/floatParameters_.second',\n",
       " 'EventHeader/stringParameters_',\n",
       " 'EventHeader/stringParameters_/stringParameters_.first',\n",
       " 'EventHeader/stringParameters_/stringParameters_.second',\n",
       " 'SimParticles_sim',\n",
       " 'SimParticles_sim/SimParticles_sim.first',\n",
       " 'SimParticles_sim/SimParticles_sim.second.energy_',\n",
       " 'SimParticles_sim/SimParticles_sim.second.pdgID_',\n",
       " 'SimParticles_sim/SimParticles_sim.second.genStatus_',\n",
       " 'SimParticles_sim/SimParticles_sim.second.time_',\n",
       " 'SimParticles_sim/SimParticles_sim.second.x_',\n",
       " 'SimParticles_sim/SimParticles_sim.second.y_',\n",
       " 'SimParticles_sim/SimParticles_sim.second.z_',\n",
       " 'SimParticles_sim/SimParticles_sim.second.endX_',\n",
       " 'SimParticles_sim/SimParticles_sim.second.endY_',\n",
       " 'SimParticles_sim/SimParticles_sim.second.endZ_',\n",
       " 'SimParticles_sim/SimParticles_sim.second.px_',\n",
       " 'SimParticles_sim/SimParticles_sim.second.py_',\n",
       " 'SimParticles_sim/SimParticles_sim.second.pz_',\n",
       " 'SimParticles_sim/SimParticles_sim.second.endpx_',\n",
       " 'SimParticles_sim/SimParticles_sim.second.endpy_',\n",
       " 'SimParticles_sim/SimParticles_sim.second.endpz_',\n",
       " 'SimParticles_sim/SimParticles_sim.second.mass_',\n",
       " 'SimParticles_sim/SimParticles_sim.second.charge_',\n",
       " 'SimParticles_sim/SimParticles_sim.second.daughters_',\n",
       " 'SimParticles_sim/SimParticles_sim.second.parents_',\n",
       " 'SimParticles_sim/SimParticles_sim.second.processType_',\n",
       " 'SimParticles_sim/SimParticles_sim.second.vertexVolume_',\n",
       " 'TaggerSimHits_sim',\n",
       " 'TaggerSimHits_sim/TaggerSimHits_sim.id_',\n",
       " 'TaggerSimHits_sim/TaggerSimHits_sim.layerID_',\n",
       " 'TaggerSimHits_sim/TaggerSimHits_sim.moduleID_',\n",
       " 'TaggerSimHits_sim/TaggerSimHits_sim.edep_',\n",
       " 'TaggerSimHits_sim/TaggerSimHits_sim.time_',\n",
       " 'TaggerSimHits_sim/TaggerSimHits_sim.px_',\n",
       " 'TaggerSimHits_sim/TaggerSimHits_sim.py_',\n",
       " 'TaggerSimHits_sim/TaggerSimHits_sim.pz_',\n",
       " 'TaggerSimHits_sim/TaggerSimHits_sim.energy_',\n",
       " 'TaggerSimHits_sim/TaggerSimHits_sim.x_',\n",
       " 'TaggerSimHits_sim/TaggerSimHits_sim.y_',\n",
       " 'TaggerSimHits_sim/TaggerSimHits_sim.z_',\n",
       " 'TaggerSimHits_sim/TaggerSimHits_sim.pathLength_',\n",
       " 'TaggerSimHits_sim/TaggerSimHits_sim.trackID_',\n",
       " 'TaggerSimHits_sim/TaggerSimHits_sim.pdgID_',\n",
       " 'RecoilSimHits_sim',\n",
       " 'RecoilSimHits_sim/RecoilSimHits_sim.id_',\n",
       " 'RecoilSimHits_sim/RecoilSimHits_sim.layerID_',\n",
       " 'RecoilSimHits_sim/RecoilSimHits_sim.moduleID_',\n",
       " 'RecoilSimHits_sim/RecoilSimHits_sim.edep_',\n",
       " 'RecoilSimHits_sim/RecoilSimHits_sim.time_',\n",
       " 'RecoilSimHits_sim/RecoilSimHits_sim.px_',\n",
       " 'RecoilSimHits_sim/RecoilSimHits_sim.py_',\n",
       " 'RecoilSimHits_sim/RecoilSimHits_sim.pz_',\n",
       " 'RecoilSimHits_sim/RecoilSimHits_sim.energy_',\n",
       " 'RecoilSimHits_sim/RecoilSimHits_sim.x_',\n",
       " 'RecoilSimHits_sim/RecoilSimHits_sim.y_',\n",
       " 'RecoilSimHits_sim/RecoilSimHits_sim.z_',\n",
       " 'RecoilSimHits_sim/RecoilSimHits_sim.pathLength_',\n",
       " 'RecoilSimHits_sim/RecoilSimHits_sim.trackID_',\n",
       " 'RecoilSimHits_sim/RecoilSimHits_sim.pdgID_',\n",
       " 'HcalSimHits_sim',\n",
       " 'HcalSimHits_sim/HcalSimHits_sim.id_',\n",
       " 'HcalSimHits_sim/HcalSimHits_sim.edep_',\n",
       " 'HcalSimHits_sim/HcalSimHits_sim.x_',\n",
       " 'HcalSimHits_sim/HcalSimHits_sim.y_',\n",
       " 'HcalSimHits_sim/HcalSimHits_sim.z_',\n",
       " 'HcalSimHits_sim/HcalSimHits_sim.time_',\n",
       " 'HcalSimHits_sim/HcalSimHits_sim.trackIDContribs_',\n",
       " 'HcalSimHits_sim/HcalSimHits_sim.incidentIDContribs_',\n",
       " 'HcalSimHits_sim/HcalSimHits_sim.pdgCodeContribs_',\n",
       " 'HcalSimHits_sim/HcalSimHits_sim.edepContribs_',\n",
       " 'HcalSimHits_sim/HcalSimHits_sim.timeContribs_',\n",
       " 'HcalSimHits_sim/HcalSimHits_sim.nContribs_',\n",
       " 'HcalSimHits_sim/HcalSimHits_sim.pathLength_',\n",
       " 'HcalSimHits_sim/HcalSimHits_sim.preStepX_',\n",
       " 'HcalSimHits_sim/HcalSimHits_sim.preStepY_',\n",
       " 'HcalSimHits_sim/HcalSimHits_sim.preStepZ_',\n",
       " 'HcalSimHits_sim/HcalSimHits_sim.preStepTime_',\n",
       " 'HcalSimHits_sim/HcalSimHits_sim.postStepX_',\n",
       " 'HcalSimHits_sim/HcalSimHits_sim.postStepY_',\n",
       " 'HcalSimHits_sim/HcalSimHits_sim.postStepZ_',\n",
       " 'HcalSimHits_sim/HcalSimHits_sim.postStepTime_',\n",
       " 'HcalSimHits_sim/HcalSimHits_sim.velocity_',\n",
       " 'EcalSimHits_sim',\n",
       " 'EcalSimHits_sim/EcalSimHits_sim.id_',\n",
       " 'EcalSimHits_sim/EcalSimHits_sim.edep_',\n",
       " 'EcalSimHits_sim/EcalSimHits_sim.x_',\n",
       " 'EcalSimHits_sim/EcalSimHits_sim.y_',\n",
       " 'EcalSimHits_sim/EcalSimHits_sim.z_',\n",
       " 'EcalSimHits_sim/EcalSimHits_sim.time_',\n",
       " 'EcalSimHits_sim/EcalSimHits_sim.trackIDContribs_',\n",
       " 'EcalSimHits_sim/EcalSimHits_sim.incidentIDContribs_',\n",
       " 'EcalSimHits_sim/EcalSimHits_sim.pdgCodeContribs_',\n",
       " 'EcalSimHits_sim/EcalSimHits_sim.edepContribs_',\n",
       " 'EcalSimHits_sim/EcalSimHits_sim.timeContribs_',\n",
       " 'EcalSimHits_sim/EcalSimHits_sim.nContribs_',\n",
       " 'EcalSimHits_sim/EcalSimHits_sim.pathLength_',\n",
       " 'EcalSimHits_sim/EcalSimHits_sim.preStepX_',\n",
       " 'EcalSimHits_sim/EcalSimHits_sim.preStepY_',\n",
       " 'EcalSimHits_sim/EcalSimHits_sim.preStepZ_',\n",
       " 'EcalSimHits_sim/EcalSimHits_sim.preStepTime_',\n",
       " 'EcalSimHits_sim/EcalSimHits_sim.postStepX_',\n",
       " 'EcalSimHits_sim/EcalSimHits_sim.postStepY_',\n",
       " 'EcalSimHits_sim/EcalSimHits_sim.postStepZ_',\n",
       " 'EcalSimHits_sim/EcalSimHits_sim.postStepTime_',\n",
       " 'EcalSimHits_sim/EcalSimHits_sim.velocity_',\n",
       " 'TargetSimHits_sim',\n",
       " 'TargetSimHits_sim/TargetSimHits_sim.id_',\n",
       " 'TargetSimHits_sim/TargetSimHits_sim.edep_',\n",
       " 'TargetSimHits_sim/TargetSimHits_sim.x_',\n",
       " 'TargetSimHits_sim/TargetSimHits_sim.y_',\n",
       " 'TargetSimHits_sim/TargetSimHits_sim.z_',\n",
       " 'TargetSimHits_sim/TargetSimHits_sim.time_',\n",
       " 'TargetSimHits_sim/TargetSimHits_sim.trackIDContribs_',\n",
       " 'TargetSimHits_sim/TargetSimHits_sim.incidentIDContribs_',\n",
       " 'TargetSimHits_sim/TargetSimHits_sim.pdgCodeContribs_',\n",
       " 'TargetSimHits_sim/TargetSimHits_sim.edepContribs_',\n",
       " 'TargetSimHits_sim/TargetSimHits_sim.timeContribs_',\n",
       " 'TargetSimHits_sim/TargetSimHits_sim.nContribs_',\n",
       " 'TargetSimHits_sim/TargetSimHits_sim.pathLength_',\n",
       " 'TargetSimHits_sim/TargetSimHits_sim.preStepX_',\n",
       " 'TargetSimHits_sim/TargetSimHits_sim.preStepY_',\n",
       " 'TargetSimHits_sim/TargetSimHits_sim.preStepZ_',\n",
       " 'TargetSimHits_sim/TargetSimHits_sim.preStepTime_',\n",
       " 'TargetSimHits_sim/TargetSimHits_sim.postStepX_',\n",
       " 'TargetSimHits_sim/TargetSimHits_sim.postStepY_',\n",
       " 'TargetSimHits_sim/TargetSimHits_sim.postStepZ_',\n",
       " 'TargetSimHits_sim/TargetSimHits_sim.postStepTime_',\n",
       " 'TargetSimHits_sim/TargetSimHits_sim.velocity_',\n",
       " 'TriggerPad1SimHits_sim',\n",
       " 'TriggerPad1SimHits_sim/TriggerPad1SimHits_sim.id_',\n",
       " 'TriggerPad1SimHits_sim/TriggerPad1SimHits_sim.edep_',\n",
       " 'TriggerPad1SimHits_sim/TriggerPad1SimHits_sim.x_',\n",
       " 'TriggerPad1SimHits_sim/TriggerPad1SimHits_sim.y_',\n",
       " 'TriggerPad1SimHits_sim/TriggerPad1SimHits_sim.z_',\n",
       " 'TriggerPad1SimHits_sim/TriggerPad1SimHits_sim.time_',\n",
       " 'TriggerPad1SimHits_sim/TriggerPad1SimHits_sim.trackIDContribs_',\n",
       " 'TriggerPad1SimHits_sim/TriggerPad1SimHits_sim.incidentIDContribs_',\n",
       " 'TriggerPad1SimHits_sim/TriggerPad1SimHits_sim.pdgCodeContribs_',\n",
       " 'TriggerPad1SimHits_sim/TriggerPad1SimHits_sim.edepContribs_',\n",
       " 'TriggerPad1SimHits_sim/TriggerPad1SimHits_sim.timeContribs_',\n",
       " 'TriggerPad1SimHits_sim/TriggerPad1SimHits_sim.nContribs_',\n",
       " 'TriggerPad1SimHits_sim/TriggerPad1SimHits_sim.pathLength_',\n",
       " 'TriggerPad1SimHits_sim/TriggerPad1SimHits_sim.preStepX_',\n",
       " 'TriggerPad1SimHits_sim/TriggerPad1SimHits_sim.preStepY_',\n",
       " 'TriggerPad1SimHits_sim/TriggerPad1SimHits_sim.preStepZ_',\n",
       " 'TriggerPad1SimHits_sim/TriggerPad1SimHits_sim.preStepTime_',\n",
       " 'TriggerPad1SimHits_sim/TriggerPad1SimHits_sim.postStepX_',\n",
       " 'TriggerPad1SimHits_sim/TriggerPad1SimHits_sim.postStepY_',\n",
       " 'TriggerPad1SimHits_sim/TriggerPad1SimHits_sim.postStepZ_',\n",
       " 'TriggerPad1SimHits_sim/TriggerPad1SimHits_sim.postStepTime_',\n",
       " 'TriggerPad1SimHits_sim/TriggerPad1SimHits_sim.velocity_',\n",
       " 'TriggerPad2SimHits_sim',\n",
       " 'TriggerPad2SimHits_sim/TriggerPad2SimHits_sim.id_',\n",
       " 'TriggerPad2SimHits_sim/TriggerPad2SimHits_sim.edep_',\n",
       " 'TriggerPad2SimHits_sim/TriggerPad2SimHits_sim.x_',\n",
       " 'TriggerPad2SimHits_sim/TriggerPad2SimHits_sim.y_',\n",
       " 'TriggerPad2SimHits_sim/TriggerPad2SimHits_sim.z_',\n",
       " 'TriggerPad2SimHits_sim/TriggerPad2SimHits_sim.time_',\n",
       " 'TriggerPad2SimHits_sim/TriggerPad2SimHits_sim.trackIDContribs_',\n",
       " 'TriggerPad2SimHits_sim/TriggerPad2SimHits_sim.incidentIDContribs_',\n",
       " 'TriggerPad2SimHits_sim/TriggerPad2SimHits_sim.pdgCodeContribs_',\n",
       " 'TriggerPad2SimHits_sim/TriggerPad2SimHits_sim.edepContribs_',\n",
       " 'TriggerPad2SimHits_sim/TriggerPad2SimHits_sim.timeContribs_',\n",
       " 'TriggerPad2SimHits_sim/TriggerPad2SimHits_sim.nContribs_',\n",
       " 'TriggerPad2SimHits_sim/TriggerPad2SimHits_sim.pathLength_',\n",
       " 'TriggerPad2SimHits_sim/TriggerPad2SimHits_sim.preStepX_',\n",
       " 'TriggerPad2SimHits_sim/TriggerPad2SimHits_sim.preStepY_',\n",
       " 'TriggerPad2SimHits_sim/TriggerPad2SimHits_sim.preStepZ_',\n",
       " 'TriggerPad2SimHits_sim/TriggerPad2SimHits_sim.preStepTime_',\n",
       " 'TriggerPad2SimHits_sim/TriggerPad2SimHits_sim.postStepX_',\n",
       " 'TriggerPad2SimHits_sim/TriggerPad2SimHits_sim.postStepY_',\n",
       " 'TriggerPad2SimHits_sim/TriggerPad2SimHits_sim.postStepZ_',\n",
       " 'TriggerPad2SimHits_sim/TriggerPad2SimHits_sim.postStepTime_',\n",
       " 'TriggerPad2SimHits_sim/TriggerPad2SimHits_sim.velocity_',\n",
       " 'TriggerPad3SimHits_sim',\n",
       " 'TriggerPad3SimHits_sim/TriggerPad3SimHits_sim.id_',\n",
       " 'TriggerPad3SimHits_sim/TriggerPad3SimHits_sim.edep_',\n",
       " 'TriggerPad3SimHits_sim/TriggerPad3SimHits_sim.x_',\n",
       " 'TriggerPad3SimHits_sim/TriggerPad3SimHits_sim.y_',\n",
       " 'TriggerPad3SimHits_sim/TriggerPad3SimHits_sim.z_',\n",
       " 'TriggerPad3SimHits_sim/TriggerPad3SimHits_sim.time_',\n",
       " 'TriggerPad3SimHits_sim/TriggerPad3SimHits_sim.trackIDContribs_',\n",
       " 'TriggerPad3SimHits_sim/TriggerPad3SimHits_sim.incidentIDContribs_',\n",
       " 'TriggerPad3SimHits_sim/TriggerPad3SimHits_sim.pdgCodeContribs_',\n",
       " 'TriggerPad3SimHits_sim/TriggerPad3SimHits_sim.edepContribs_',\n",
       " 'TriggerPad3SimHits_sim/TriggerPad3SimHits_sim.timeContribs_',\n",
       " 'TriggerPad3SimHits_sim/TriggerPad3SimHits_sim.nContribs_',\n",
       " 'TriggerPad3SimHits_sim/TriggerPad3SimHits_sim.pathLength_',\n",
       " 'TriggerPad3SimHits_sim/TriggerPad3SimHits_sim.preStepX_',\n",
       " 'TriggerPad3SimHits_sim/TriggerPad3SimHits_sim.preStepY_',\n",
       " 'TriggerPad3SimHits_sim/TriggerPad3SimHits_sim.preStepZ_',\n",
       " 'TriggerPad3SimHits_sim/TriggerPad3SimHits_sim.preStepTime_',\n",
       " 'TriggerPad3SimHits_sim/TriggerPad3SimHits_sim.postStepX_',\n",
       " 'TriggerPad3SimHits_sim/TriggerPad3SimHits_sim.postStepY_',\n",
       " 'TriggerPad3SimHits_sim/TriggerPad3SimHits_sim.postStepZ_',\n",
       " 'TriggerPad3SimHits_sim/TriggerPad3SimHits_sim.postStepTime_',\n",
       " 'TriggerPad3SimHits_sim/TriggerPad3SimHits_sim.velocity_',\n",
       " 'EcalScoringPlaneHits_sim',\n",
       " 'EcalScoringPlaneHits_sim/EcalScoringPlaneHits_sim.id_',\n",
       " 'EcalScoringPlaneHits_sim/EcalScoringPlaneHits_sim.layerID_',\n",
       " 'EcalScoringPlaneHits_sim/EcalScoringPlaneHits_sim.moduleID_',\n",
       " 'EcalScoringPlaneHits_sim/EcalScoringPlaneHits_sim.edep_',\n",
       " 'EcalScoringPlaneHits_sim/EcalScoringPlaneHits_sim.time_',\n",
       " 'EcalScoringPlaneHits_sim/EcalScoringPlaneHits_sim.px_',\n",
       " 'EcalScoringPlaneHits_sim/EcalScoringPlaneHits_sim.py_',\n",
       " 'EcalScoringPlaneHits_sim/EcalScoringPlaneHits_sim.pz_',\n",
       " 'EcalScoringPlaneHits_sim/EcalScoringPlaneHits_sim.energy_',\n",
       " 'EcalScoringPlaneHits_sim/EcalScoringPlaneHits_sim.x_',\n",
       " 'EcalScoringPlaneHits_sim/EcalScoringPlaneHits_sim.y_',\n",
       " 'EcalScoringPlaneHits_sim/EcalScoringPlaneHits_sim.z_',\n",
       " 'EcalScoringPlaneHits_sim/EcalScoringPlaneHits_sim.pathLength_',\n",
       " 'EcalScoringPlaneHits_sim/EcalScoringPlaneHits_sim.trackID_',\n",
       " 'EcalScoringPlaneHits_sim/EcalScoringPlaneHits_sim.pdgID_',\n",
       " 'TargetScoringPlaneHits_sim',\n",
       " 'TargetScoringPlaneHits_sim/TargetScoringPlaneHits_sim.id_',\n",
       " 'TargetScoringPlaneHits_sim/TargetScoringPlaneHits_sim.layerID_',\n",
       " 'TargetScoringPlaneHits_sim/TargetScoringPlaneHits_sim.moduleID_',\n",
       " 'TargetScoringPlaneHits_sim/TargetScoringPlaneHits_sim.edep_',\n",
       " 'TargetScoringPlaneHits_sim/TargetScoringPlaneHits_sim.time_',\n",
       " 'TargetScoringPlaneHits_sim/TargetScoringPlaneHits_sim.px_',\n",
       " 'TargetScoringPlaneHits_sim/TargetScoringPlaneHits_sim.py_',\n",
       " 'TargetScoringPlaneHits_sim/TargetScoringPlaneHits_sim.pz_',\n",
       " 'TargetScoringPlaneHits_sim/TargetScoringPlaneHits_sim.energy_',\n",
       " 'TargetScoringPlaneHits_sim/TargetScoringPlaneHits_sim.x_',\n",
       " 'TargetScoringPlaneHits_sim/TargetScoringPlaneHits_sim.y_',\n",
       " 'TargetScoringPlaneHits_sim/TargetScoringPlaneHits_sim.z_',\n",
       " 'TargetScoringPlaneHits_sim/TargetScoringPlaneHits_sim.pathLength_',\n",
       " 'TargetScoringPlaneHits_sim/TargetScoringPlaneHits_sim.trackID_',\n",
       " 'TargetScoringPlaneHits_sim/TargetScoringPlaneHits_sim.pdgID_',\n",
       " 'TrigScintScoringPlaneHits_sim',\n",
       " 'TrigScintScoringPlaneHits_sim/TrigScintScoringPlaneHits_sim.id_',\n",
       " 'TrigScintScoringPlaneHits_sim/TrigScintScoringPlaneHits_sim.layerID_',\n",
       " 'TrigScintScoringPlaneHits_sim/TrigScintScoringPlaneHits_sim.moduleID_',\n",
       " 'TrigScintScoringPlaneHits_sim/TrigScintScoringPlaneHits_sim.edep_',\n",
       " 'TrigScintScoringPlaneHits_sim/TrigScintScoringPlaneHits_sim.time_',\n",
       " 'TrigScintScoringPlaneHits_sim/TrigScintScoringPlaneHits_sim.px_',\n",
       " 'TrigScintScoringPlaneHits_sim/TrigScintScoringPlaneHits_sim.py_',\n",
       " 'TrigScintScoringPlaneHits_sim/TrigScintScoringPlaneHits_sim.pz_',\n",
       " 'TrigScintScoringPlaneHits_sim/TrigScintScoringPlaneHits_sim.energy_',\n",
       " 'TrigScintScoringPlaneHits_sim/TrigScintScoringPlaneHits_sim.x_',\n",
       " 'TrigScintScoringPlaneHits_sim/TrigScintScoringPlaneHits_sim.y_',\n",
       " 'TrigScintScoringPlaneHits_sim/TrigScintScoringPlaneHits_sim.z_',\n",
       " 'TrigScintScoringPlaneHits_sim/TrigScintScoringPlaneHits_sim.pathLength_',\n",
       " 'TrigScintScoringPlaneHits_sim/TrigScintScoringPlaneHits_sim.trackID_',\n",
       " 'TrigScintScoringPlaneHits_sim/TrigScintScoringPlaneHits_sim.pdgID_',\n",
       " 'EcalDigis_sim',\n",
       " 'EcalDigis_sim/channelIDs_',\n",
       " 'EcalDigis_sim/samples_',\n",
       " 'EcalDigis_sim/numSamplesPerDigi_',\n",
       " 'EcalDigis_sim/sampleOfInterest_',\n",
       " 'EcalDigis_sim/version_',\n",
       " 'EcalRecHits_sim',\n",
       " 'EcalRecHits_sim/EcalRecHits_sim.id_',\n",
       " 'EcalRecHits_sim/EcalRecHits_sim.amplitude_',\n",
       " 'EcalRecHits_sim/EcalRecHits_sim.energy_',\n",
       " 'EcalRecHits_sim/EcalRecHits_sim.time_',\n",
       " 'EcalRecHits_sim/EcalRecHits_sim.xpos_',\n",
       " 'EcalRecHits_sim/EcalRecHits_sim.ypos_',\n",
       " 'EcalRecHits_sim/EcalRecHits_sim.zpos_',\n",
       " 'EcalRecHits_sim/EcalRecHits_sim.isNoise_',\n",
       " 'EcalVeto_sim',\n",
       " 'EcalVeto_sim/passesVeto_',\n",
       " 'EcalVeto_sim/nReadoutHits_',\n",
       " 'EcalVeto_sim/deepestLayerHit_',\n",
       " 'EcalVeto_sim/summedDet_',\n",
       " 'EcalVeto_sim/summedTightIso_',\n",
       " 'EcalVeto_sim/maxCellDep_',\n",
       " 'EcalVeto_sim/showerRMS_',\n",
       " 'EcalVeto_sim/xStd_',\n",
       " 'EcalVeto_sim/yStd_',\n",
       " 'EcalVeto_sim/avgLayerHit_',\n",
       " 'EcalVeto_sim/stdLayerHit_',\n",
       " 'EcalVeto_sim/ecalBackEnergy_',\n",
       " 'EcalVeto_sim/nStraightTracks_',\n",
       " 'EcalVeto_sim/nLinregTracks_',\n",
       " 'EcalVeto_sim/firstNearPhLayer_',\n",
       " 'EcalVeto_sim/epAng_',\n",
       " 'EcalVeto_sim/epSep_',\n",
       " 'EcalVeto_sim/electronContainmentEnergy_',\n",
       " 'EcalVeto_sim/photonContainmentEnergy_',\n",
       " 'EcalVeto_sim/outsideContainmentEnergy_',\n",
       " 'EcalVeto_sim/outsideContainmentNHits_',\n",
       " 'EcalVeto_sim/outsideContainmentXStd_',\n",
       " 'EcalVeto_sim/outsideContainmentYStd_',\n",
       " 'EcalVeto_sim/discValue_',\n",
       " 'EcalVeto_sim/recoilPx_',\n",
       " 'EcalVeto_sim/recoilPy_',\n",
       " 'EcalVeto_sim/recoilPz_',\n",
       " 'EcalVeto_sim/recoilX_',\n",
       " 'EcalVeto_sim/recoilY_',\n",
       " 'EcalVeto_sim/ecalLayerEdepReadout_',\n",
       " 'trigScintDigisPad2_sim',\n",
       " 'trigScintDigisPad2_sim/trigScintDigisPad2_sim.id_',\n",
       " 'trigScintDigisPad2_sim/trigScintDigisPad2_sim.amplitude_',\n",
       " 'trigScintDigisPad2_sim/trigScintDigisPad2_sim.energy_',\n",
       " 'trigScintDigisPad2_sim/trigScintDigisPad2_sim.time_',\n",
       " 'trigScintDigisPad2_sim/trigScintDigisPad2_sim.xpos_',\n",
       " 'trigScintDigisPad2_sim/trigScintDigisPad2_sim.ypos_',\n",
       " 'trigScintDigisPad2_sim/trigScintDigisPad2_sim.zpos_',\n",
       " 'trigScintDigisPad2_sim/trigScintDigisPad2_sim.isNoise_',\n",
       " 'trigScintDigisPad2_sim/trigScintDigisPad2_sim.pe_',\n",
       " 'trigScintDigisPad2_sim/trigScintDigisPad2_sim.minpe_',\n",
       " 'trigScintDigisPad2_sim/trigScintDigisPad2_sim.section_',\n",
       " 'trigScintDigisPad2_sim/trigScintDigisPad2_sim.layer_',\n",
       " 'trigScintDigisPad2_sim/trigScintDigisPad2_sim.strip_',\n",
       " 'trigScintDigisPad2_sim/trigScintDigisPad2_sim.end_',\n",
       " 'trigScintDigisPad2_sim/trigScintDigisPad2_sim.isADC_',\n",
       " 'trigScintDigisPad2_sim/trigScintDigisPad2_sim.barID_',\n",
       " 'trigScintDigisPad2_sim/trigScintDigisPad2_sim.moduleID_',\n",
       " 'trigScintDigisPad2_sim/trigScintDigisPad2_sim.beamEfrac_',\n",
       " 'trigScintDigisPad2_sim/trigScintDigisPad2_sim.pe_',\n",
       " 'trigScintDigisPad3_sim',\n",
       " 'trigScintDigisPad3_sim/trigScintDigisPad3_sim.id_',\n",
       " 'trigScintDigisPad3_sim/trigScintDigisPad3_sim.amplitude_',\n",
       " 'trigScintDigisPad3_sim/trigScintDigisPad3_sim.energy_',\n",
       " 'trigScintDigisPad3_sim/trigScintDigisPad3_sim.time_',\n",
       " 'trigScintDigisPad3_sim/trigScintDigisPad3_sim.xpos_',\n",
       " 'trigScintDigisPad3_sim/trigScintDigisPad3_sim.ypos_',\n",
       " 'trigScintDigisPad3_sim/trigScintDigisPad3_sim.zpos_',\n",
       " 'trigScintDigisPad3_sim/trigScintDigisPad3_sim.isNoise_',\n",
       " 'trigScintDigisPad3_sim/trigScintDigisPad3_sim.pe_',\n",
       " 'trigScintDigisPad3_sim/trigScintDigisPad3_sim.minpe_',\n",
       " 'trigScintDigisPad3_sim/trigScintDigisPad3_sim.section_',\n",
       " 'trigScintDigisPad3_sim/trigScintDigisPad3_sim.layer_',\n",
       " 'trigScintDigisPad3_sim/trigScintDigisPad3_sim.strip_',\n",
       " 'trigScintDigisPad3_sim/trigScintDigisPad3_sim.end_',\n",
       " 'trigScintDigisPad3_sim/trigScintDigisPad3_sim.isADC_',\n",
       " 'trigScintDigisPad3_sim/trigScintDigisPad3_sim.barID_',\n",
       " 'trigScintDigisPad3_sim/trigScintDigisPad3_sim.moduleID_',\n",
       " 'trigScintDigisPad3_sim/trigScintDigisPad3_sim.beamEfrac_',\n",
       " 'trigScintDigisPad3_sim/trigScintDigisPad3_sim.pe_',\n",
       " 'trigScintDigisPad1_sim',\n",
       " 'trigScintDigisPad1_sim/trigScintDigisPad1_sim.id_',\n",
       " 'trigScintDigisPad1_sim/trigScintDigisPad1_sim.amplitude_',\n",
       " 'trigScintDigisPad1_sim/trigScintDigisPad1_sim.energy_',\n",
       " 'trigScintDigisPad1_sim/trigScintDigisPad1_sim.time_',\n",
       " 'trigScintDigisPad1_sim/trigScintDigisPad1_sim.xpos_',\n",
       " 'trigScintDigisPad1_sim/trigScintDigisPad1_sim.ypos_',\n",
       " 'trigScintDigisPad1_sim/trigScintDigisPad1_sim.zpos_',\n",
       " 'trigScintDigisPad1_sim/trigScintDigisPad1_sim.isNoise_',\n",
       " 'trigScintDigisPad1_sim/trigScintDigisPad1_sim.pe_',\n",
       " 'trigScintDigisPad1_sim/trigScintDigisPad1_sim.minpe_',\n",
       " 'trigScintDigisPad1_sim/trigScintDigisPad1_sim.section_',\n",
       " 'trigScintDigisPad1_sim/trigScintDigisPad1_sim.layer_',\n",
       " 'trigScintDigisPad1_sim/trigScintDigisPad1_sim.strip_',\n",
       " 'trigScintDigisPad1_sim/trigScintDigisPad1_sim.end_',\n",
       " 'trigScintDigisPad1_sim/trigScintDigisPad1_sim.isADC_',\n",
       " 'trigScintDigisPad1_sim/trigScintDigisPad1_sim.barID_',\n",
       " 'trigScintDigisPad1_sim/trigScintDigisPad1_sim.moduleID_',\n",
       " 'trigScintDigisPad1_sim/trigScintDigisPad1_sim.beamEfrac_',\n",
       " 'trigScintDigisPad1_sim/trigScintDigisPad1_sim.pe_',\n",
       " 'TriggerPad2Clusters_sim',\n",
       " 'TriggerPad2Clusters_sim/TriggerPad2Clusters_sim.hitIDs_',\n",
       " 'TriggerPad2Clusters_sim/TriggerPad2Clusters_sim.energy_',\n",
       " 'TriggerPad2Clusters_sim/TriggerPad2Clusters_sim.nHits_',\n",
       " 'TriggerPad2Clusters_sim/TriggerPad2Clusters_sim.PE_',\n",
       " 'TriggerPad2Clusters_sim/TriggerPad2Clusters_sim.seed_',\n",
       " 'TriggerPad2Clusters_sim/TriggerPad2Clusters_sim.centroid_',\n",
       " 'TriggerPad2Clusters_sim/TriggerPad2Clusters_sim.centroidX_',\n",
       " 'TriggerPad2Clusters_sim/TriggerPad2Clusters_sim.centroidY_',\n",
       " 'TriggerPad2Clusters_sim/TriggerPad2Clusters_sim.centroidZ_',\n",
       " 'TriggerPad2Clusters_sim/TriggerPad2Clusters_sim.beamEfrac_',\n",
       " 'TriggerPad2Clusters_sim/TriggerPad2Clusters_sim.time_',\n",
       " 'TriggerPad3Clusters_sim',\n",
       " 'TriggerPad3Clusters_sim/TriggerPad3Clusters_sim.hitIDs_',\n",
       " 'TriggerPad3Clusters_sim/TriggerPad3Clusters_sim.energy_',\n",
       " 'TriggerPad3Clusters_sim/TriggerPad3Clusters_sim.nHits_',\n",
       " 'TriggerPad3Clusters_sim/TriggerPad3Clusters_sim.PE_',\n",
       " 'TriggerPad3Clusters_sim/TriggerPad3Clusters_sim.seed_',\n",
       " 'TriggerPad3Clusters_sim/TriggerPad3Clusters_sim.centroid_',\n",
       " 'TriggerPad3Clusters_sim/TriggerPad3Clusters_sim.centroidX_',\n",
       " 'TriggerPad3Clusters_sim/TriggerPad3Clusters_sim.centroidY_',\n",
       " 'TriggerPad3Clusters_sim/TriggerPad3Clusters_sim.centroidZ_',\n",
       " 'TriggerPad3Clusters_sim/TriggerPad3Clusters_sim.beamEfrac_',\n",
       " 'TriggerPad3Clusters_sim/TriggerPad3Clusters_sim.time_',\n",
       " 'TriggerPad1Clusters_sim',\n",
       " 'TriggerPad1Clusters_sim/TriggerPad1Clusters_sim.hitIDs_',\n",
       " 'TriggerPad1Clusters_sim/TriggerPad1Clusters_sim.energy_',\n",
       " 'TriggerPad1Clusters_sim/TriggerPad1Clusters_sim.nHits_',\n",
       " 'TriggerPad1Clusters_sim/TriggerPad1Clusters_sim.PE_',\n",
       " 'TriggerPad1Clusters_sim/TriggerPad1Clusters_sim.seed_',\n",
       " 'TriggerPad1Clusters_sim/TriggerPad1Clusters_sim.centroid_',\n",
       " 'TriggerPad1Clusters_sim/TriggerPad1Clusters_sim.centroidX_',\n",
       " 'TriggerPad1Clusters_sim/TriggerPad1Clusters_sim.centroidY_',\n",
       " 'TriggerPad1Clusters_sim/TriggerPad1Clusters_sim.centroidZ_',\n",
       " 'TriggerPad1Clusters_sim/TriggerPad1Clusters_sim.beamEfrac_',\n",
       " 'TriggerPad1Clusters_sim/TriggerPad1Clusters_sim.time_',\n",
       " 'TriggerPadTracks_sim',\n",
       " 'TriggerPadTracks_sim/TriggerPadTracks_sim.centroid_',\n",
       " 'TriggerPadTracks_sim/TriggerPadTracks_sim.centroidX_',\n",
       " 'TriggerPadTracks_sim/TriggerPadTracks_sim.centroidY_',\n",
       " 'TriggerPadTracks_sim/TriggerPadTracks_sim.centroidZ_',\n",
       " 'TriggerPadTracks_sim/TriggerPadTracks_sim.residual_',\n",
       " 'TriggerPadTracks_sim/TriggerPadTracks_sim.residualX_',\n",
       " 'TriggerPadTracks_sim/TriggerPadTracks_sim.residualY_',\n",
       " 'TriggerPadTracks_sim/TriggerPadTracks_sim.residualZ_',\n",
       " 'TriggerPadTracks_sim/TriggerPadTracks_sim.nClusters_',\n",
       " 'TriggerPadTracks_sim/TriggerPadTracks_sim.constituents_',\n",
       " 'TriggerPadTracks_sim/TriggerPadTracks_sim.beamEfrac_',\n",
       " 'TriggerPadTracks_sim/TriggerPadTracks_sim.PE_',\n",
       " 'TriggerPadTracks_sim/TriggerPadTracks_sim.x_',\n",
       " 'TriggerPadTracks_sim/TriggerPadTracks_sim.y_',\n",
       " 'TriggerPadTracks_sim/TriggerPadTracks_sim.sx_',\n",
       " 'TriggerPadTracks_sim/TriggerPadTracks_sim.sy_',\n",
       " 'TriggerPadTracks_sim/TriggerPadTracks_sim.px_',\n",
       " 'TriggerPadTracks_sim/TriggerPadTracks_sim.py_',\n",
       " 'TriggerPadTracks_sim/TriggerPadTracks_sim.pz_',\n",
       " 'TriggerPadTracks_sim/TriggerPadTracks_sim.z_',\n",
       " 'TriggerPadTracksY_sim',\n",
       " 'TriggerPadTracksY_sim/TriggerPadTracksY_sim.centroid_',\n",
       " 'TriggerPadTracksY_sim/TriggerPadTracksY_sim.centroidX_',\n",
       " 'TriggerPadTracksY_sim/TriggerPadTracksY_sim.centroidY_',\n",
       " 'TriggerPadTracksY_sim/TriggerPadTracksY_sim.centroidZ_',\n",
       " 'TriggerPadTracksY_sim/TriggerPadTracksY_sim.residual_',\n",
       " 'TriggerPadTracksY_sim/TriggerPadTracksY_sim.residualX_',\n",
       " 'TriggerPadTracksY_sim/TriggerPadTracksY_sim.residualY_',\n",
       " 'TriggerPadTracksY_sim/TriggerPadTracksY_sim.residualZ_',\n",
       " 'TriggerPadTracksY_sim/TriggerPadTracksY_sim.nClusters_',\n",
       " 'TriggerPadTracksY_sim/TriggerPadTracksY_sim.constituents_',\n",
       " 'TriggerPadTracksY_sim/TriggerPadTracksY_sim.beamEfrac_',\n",
       " 'TriggerPadTracksY_sim/TriggerPadTracksY_sim.PE_',\n",
       " 'TriggerPadTracksY_sim/TriggerPadTracksY_sim.x_',\n",
       " 'TriggerPadTracksY_sim/TriggerPadTracksY_sim.y_',\n",
       " 'TriggerPadTracksY_sim/TriggerPadTracksY_sim.sx_',\n",
       " 'TriggerPadTracksY_sim/TriggerPadTracksY_sim.sy_',\n",
       " 'TriggerPadTracksY_sim/TriggerPadTracksY_sim.px_',\n",
       " 'TriggerPadTracksY_sim/TriggerPadTracksY_sim.py_',\n",
       " 'TriggerPadTracksY_sim/TriggerPadTracksY_sim.pz_',\n",
       " 'TriggerPadTracksY_sim/TriggerPadTracksY_sim.z_',\n",
       " 'TriggerPadTracksX_sim',\n",
       " 'TriggerPadTracksX_sim/TriggerPadTracksX_sim.centroid_',\n",
       " 'TriggerPadTracksX_sim/TriggerPadTracksX_sim.centroidX_',\n",
       " 'TriggerPadTracksX_sim/TriggerPadTracksX_sim.centroidY_',\n",
       " 'TriggerPadTracksX_sim/TriggerPadTracksX_sim.centroidZ_',\n",
       " 'TriggerPadTracksX_sim/TriggerPadTracksX_sim.residual_',\n",
       " 'TriggerPadTracksX_sim/TriggerPadTracksX_sim.residualX_',\n",
       " 'TriggerPadTracksX_sim/TriggerPadTracksX_sim.residualY_',\n",
       " 'TriggerPadTracksX_sim/TriggerPadTracksX_sim.residualZ_',\n",
       " 'TriggerPadTracksX_sim/TriggerPadTracksX_sim.nClusters_',\n",
       " 'TriggerPadTracksX_sim/TriggerPadTracksX_sim.constituents_',\n",
       " 'TriggerPadTracksX_sim/TriggerPadTracksX_sim.beamEfrac_',\n",
       " 'TriggerPadTracksX_sim/TriggerPadTracksX_sim.PE_',\n",
       " 'TriggerPadTracksX_sim/TriggerPadTracksX_sim.x_',\n",
       " 'TriggerPadTracksX_sim/TriggerPadTracksX_sim.y_',\n",
       " 'TriggerPadTracksX_sim/TriggerPadTracksX_sim.sx_',\n",
       " 'TriggerPadTracksX_sim/TriggerPadTracksX_sim.sy_',\n",
       " 'TriggerPadTracksX_sim/TriggerPadTracksX_sim.px_',\n",
       " 'TriggerPadTracksX_sim/TriggerPadTracksX_sim.py_',\n",
       " 'TriggerPadTracksX_sim/TriggerPadTracksX_sim.pz_',\n",
       " 'TriggerPadTracksX_sim/TriggerPadTracksX_sim.z_',\n",
       " 'Trigger_sim',\n",
       " 'Trigger_sim/name_',\n",
       " 'Trigger_sim/pass_',\n",
       " 'Trigger_sim/variables_',\n",
       " 'HcalDigis_sim',\n",
       " 'HcalDigis_sim/channelIDs_',\n",
       " 'HcalDigis_sim/samples_',\n",
       " 'HcalDigis_sim/numSamplesPerDigi_',\n",
       " 'HcalDigis_sim/sampleOfInterest_',\n",
       " 'HcalDigis_sim/version_',\n",
       " 'HcalRecHits_sim',\n",
       " 'HcalRecHits_sim/HcalRecHits_sim.id_',\n",
       " 'HcalRecHits_sim/HcalRecHits_sim.amplitude_',\n",
       " 'HcalRecHits_sim/HcalRecHits_sim.energy_',\n",
       " 'HcalRecHits_sim/HcalRecHits_sim.time_',\n",
       " 'HcalRecHits_sim/HcalRecHits_sim.xpos_',\n",
       " 'HcalRecHits_sim/HcalRecHits_sim.ypos_',\n",
       " 'HcalRecHits_sim/HcalRecHits_sim.zpos_',\n",
       " 'HcalRecHits_sim/HcalRecHits_sim.isNoise_',\n",
       " 'HcalRecHits_sim/HcalRecHits_sim.pe_',\n",
       " 'HcalRecHits_sim/HcalRecHits_sim.minpe_',\n",
       " 'HcalRecHits_sim/HcalRecHits_sim.section_',\n",
       " 'HcalRecHits_sim/HcalRecHits_sim.layer_',\n",
       " 'HcalRecHits_sim/HcalRecHits_sim.strip_',\n",
       " 'HcalRecHits_sim/HcalRecHits_sim.end_',\n",
       " 'HcalRecHits_sim/HcalRecHits_sim.isADC_',\n",
       " 'HcalVeto_sim',\n",
       " 'HcalVeto_sim/maxPEHit_',\n",
       " 'HcalVeto_sim/maxPEHit_/maxPEHit_.ldmx::CalorimeterHit',\n",
       " 'HcalVeto_sim/maxPEHit_/maxPEHit_.ldmx::CalorimeterHit/maxPEHit_.id_',\n",
       " 'HcalVeto_sim/maxPEHit_/maxPEHit_.ldmx::CalorimeterHit/maxPEHit_.amplitude_',\n",
       " 'HcalVeto_sim/maxPEHit_/maxPEHit_.ldmx::CalorimeterHit/maxPEHit_.energy_',\n",
       " 'HcalVeto_sim/maxPEHit_/maxPEHit_.ldmx::CalorimeterHit/maxPEHit_.time_',\n",
       " 'HcalVeto_sim/maxPEHit_/maxPEHit_.ldmx::CalorimeterHit/maxPEHit_.xpos_',\n",
       " 'HcalVeto_sim/maxPEHit_/maxPEHit_.ldmx::CalorimeterHit/maxPEHit_.ypos_',\n",
       " 'HcalVeto_sim/maxPEHit_/maxPEHit_.ldmx::CalorimeterHit/maxPEHit_.zpos_',\n",
       " 'HcalVeto_sim/maxPEHit_/maxPEHit_.ldmx::CalorimeterHit/maxPEHit_.isNoise_',\n",
       " 'HcalVeto_sim/maxPEHit_/maxPEHit_.pe_',\n",
       " 'HcalVeto_sim/maxPEHit_/maxPEHit_.minpe_',\n",
       " 'HcalVeto_sim/maxPEHit_/maxPEHit_.section_',\n",
       " 'HcalVeto_sim/maxPEHit_/maxPEHit_.layer_',\n",
       " 'HcalVeto_sim/maxPEHit_/maxPEHit_.strip_',\n",
       " 'HcalVeto_sim/maxPEHit_/maxPEHit_.end_',\n",
       " 'HcalVeto_sim/maxPEHit_/maxPEHit_.isADC_',\n",
       " 'HcalVeto_sim/passesVeto_']"
      ]
     },
     "execution_count": 5,
     "metadata": {},
     "output_type": "execute_result"
    }
   ],
   "source": [
    "file['LDMX_Events'].keys()"
   ]
  },
  {
   "cell_type": "code",
   "execution_count": 6,
   "id": "b034db49-b9b2-4882-a834-b15330a04a2a",
   "metadata": {},
   "outputs": [],
   "source": [
    "import matplotlib.pyplot as plt\n"
   ]
  },
  {
   "cell_type": "code",
   "execution_count": 7,
   "id": "3f717c9b-e654-4e83-b5c1-c15b74fce0a6",
   "metadata": {},
   "outputs": [],
   "source": [
    "import pandas as pd"
   ]
  },
  {
   "cell_type": "code",
   "execution_count": 8,
   "id": "86762ca7-520a-48a5-9fbe-48be3a73c7e2",
   "metadata": {},
   "outputs": [
    {
     "ename": "UnicodeDecodeError",
     "evalue": "'utf-8' codec can't decode byte 0xf3 in position 6: invalid continuation byte",
     "output_type": "error",
     "traceback": [
      "\u001b[0;31m---------------------------------------------------------------------------\u001b[0m",
      "\u001b[0;31mUnicodeDecodeError\u001b[0m                        Traceback (most recent call last)",
      "Cell \u001b[0;32mIn[8], line 1\u001b[0m\n\u001b[0;32m----> 1\u001b[0m df \u001b[38;5;241m=\u001b[39m \u001b[43mpd\u001b[49m\u001b[38;5;241;43m.\u001b[39;49m\u001b[43mread_csv\u001b[49m\u001b[43m(\u001b[49m\u001b[38;5;124;43m'\u001b[39;49m\u001b[38;5;124;43m/Users/deep/Documents/mc_v14-4.0GeV-1e-target_photonuclear_run1_t1692626142.root\u001b[39;49m\u001b[38;5;124;43m'\u001b[39;49m\u001b[43m)\u001b[49m\n",
      "File \u001b[0;32m~/anaconda3/envs/ldmx/lib/python3.9/site-packages/pandas/io/parsers/readers.py:912\u001b[0m, in \u001b[0;36mread_csv\u001b[0;34m(filepath_or_buffer, sep, delimiter, header, names, index_col, usecols, dtype, engine, converters, true_values, false_values, skipinitialspace, skiprows, skipfooter, nrows, na_values, keep_default_na, na_filter, verbose, skip_blank_lines, parse_dates, infer_datetime_format, keep_date_col, date_parser, date_format, dayfirst, cache_dates, iterator, chunksize, compression, thousands, decimal, lineterminator, quotechar, quoting, doublequote, escapechar, comment, encoding, encoding_errors, dialect, on_bad_lines, delim_whitespace, low_memory, memory_map, float_precision, storage_options, dtype_backend)\u001b[0m\n\u001b[1;32m    899\u001b[0m kwds_defaults \u001b[38;5;241m=\u001b[39m _refine_defaults_read(\n\u001b[1;32m    900\u001b[0m     dialect,\n\u001b[1;32m    901\u001b[0m     delimiter,\n\u001b[0;32m   (...)\u001b[0m\n\u001b[1;32m    908\u001b[0m     dtype_backend\u001b[38;5;241m=\u001b[39mdtype_backend,\n\u001b[1;32m    909\u001b[0m )\n\u001b[1;32m    910\u001b[0m kwds\u001b[38;5;241m.\u001b[39mupdate(kwds_defaults)\n\u001b[0;32m--> 912\u001b[0m \u001b[38;5;28;01mreturn\u001b[39;00m \u001b[43m_read\u001b[49m\u001b[43m(\u001b[49m\u001b[43mfilepath_or_buffer\u001b[49m\u001b[43m,\u001b[49m\u001b[43m \u001b[49m\u001b[43mkwds\u001b[49m\u001b[43m)\u001b[49m\n",
      "File \u001b[0;32m~/anaconda3/envs/ldmx/lib/python3.9/site-packages/pandas/io/parsers/readers.py:577\u001b[0m, in \u001b[0;36m_read\u001b[0;34m(filepath_or_buffer, kwds)\u001b[0m\n\u001b[1;32m    574\u001b[0m _validate_names(kwds\u001b[38;5;241m.\u001b[39mget(\u001b[38;5;124m\"\u001b[39m\u001b[38;5;124mnames\u001b[39m\u001b[38;5;124m\"\u001b[39m, \u001b[38;5;28;01mNone\u001b[39;00m))\n\u001b[1;32m    576\u001b[0m \u001b[38;5;66;03m# Create the parser.\u001b[39;00m\n\u001b[0;32m--> 577\u001b[0m parser \u001b[38;5;241m=\u001b[39m \u001b[43mTextFileReader\u001b[49m\u001b[43m(\u001b[49m\u001b[43mfilepath_or_buffer\u001b[49m\u001b[43m,\u001b[49m\u001b[43m \u001b[49m\u001b[38;5;241;43m*\u001b[39;49m\u001b[38;5;241;43m*\u001b[39;49m\u001b[43mkwds\u001b[49m\u001b[43m)\u001b[49m\n\u001b[1;32m    579\u001b[0m \u001b[38;5;28;01mif\u001b[39;00m chunksize \u001b[38;5;129;01mor\u001b[39;00m iterator:\n\u001b[1;32m    580\u001b[0m     \u001b[38;5;28;01mreturn\u001b[39;00m parser\n",
      "File \u001b[0;32m~/anaconda3/envs/ldmx/lib/python3.9/site-packages/pandas/io/parsers/readers.py:1407\u001b[0m, in \u001b[0;36mTextFileReader.__init__\u001b[0;34m(self, f, engine, **kwds)\u001b[0m\n\u001b[1;32m   1404\u001b[0m     \u001b[38;5;28mself\u001b[39m\u001b[38;5;241m.\u001b[39moptions[\u001b[38;5;124m\"\u001b[39m\u001b[38;5;124mhas_index_names\u001b[39m\u001b[38;5;124m\"\u001b[39m] \u001b[38;5;241m=\u001b[39m kwds[\u001b[38;5;124m\"\u001b[39m\u001b[38;5;124mhas_index_names\u001b[39m\u001b[38;5;124m\"\u001b[39m]\n\u001b[1;32m   1406\u001b[0m \u001b[38;5;28mself\u001b[39m\u001b[38;5;241m.\u001b[39mhandles: IOHandles \u001b[38;5;241m|\u001b[39m \u001b[38;5;28;01mNone\u001b[39;00m \u001b[38;5;241m=\u001b[39m \u001b[38;5;28;01mNone\u001b[39;00m\n\u001b[0;32m-> 1407\u001b[0m \u001b[38;5;28mself\u001b[39m\u001b[38;5;241m.\u001b[39m_engine \u001b[38;5;241m=\u001b[39m \u001b[38;5;28;43mself\u001b[39;49m\u001b[38;5;241;43m.\u001b[39;49m\u001b[43m_make_engine\u001b[49m\u001b[43m(\u001b[49m\u001b[43mf\u001b[49m\u001b[43m,\u001b[49m\u001b[43m \u001b[49m\u001b[38;5;28;43mself\u001b[39;49m\u001b[38;5;241;43m.\u001b[39;49m\u001b[43mengine\u001b[49m\u001b[43m)\u001b[49m\n",
      "File \u001b[0;32m~/anaconda3/envs/ldmx/lib/python3.9/site-packages/pandas/io/parsers/readers.py:1679\u001b[0m, in \u001b[0;36mTextFileReader._make_engine\u001b[0;34m(self, f, engine)\u001b[0m\n\u001b[1;32m   1676\u001b[0m     \u001b[38;5;28;01mraise\u001b[39;00m \u001b[38;5;167;01mValueError\u001b[39;00m(msg)\n\u001b[1;32m   1678\u001b[0m \u001b[38;5;28;01mtry\u001b[39;00m:\n\u001b[0;32m-> 1679\u001b[0m     \u001b[38;5;28;01mreturn\u001b[39;00m \u001b[43mmapping\u001b[49m\u001b[43m[\u001b[49m\u001b[43mengine\u001b[49m\u001b[43m]\u001b[49m\u001b[43m(\u001b[49m\u001b[43mf\u001b[49m\u001b[43m,\u001b[49m\u001b[43m \u001b[49m\u001b[38;5;241;43m*\u001b[39;49m\u001b[38;5;241;43m*\u001b[39;49m\u001b[38;5;28;43mself\u001b[39;49m\u001b[38;5;241;43m.\u001b[39;49m\u001b[43moptions\u001b[49m\u001b[43m)\u001b[49m\n\u001b[1;32m   1680\u001b[0m \u001b[38;5;28;01mexcept\u001b[39;00m \u001b[38;5;167;01mException\u001b[39;00m:\n\u001b[1;32m   1681\u001b[0m     \u001b[38;5;28;01mif\u001b[39;00m \u001b[38;5;28mself\u001b[39m\u001b[38;5;241m.\u001b[39mhandles \u001b[38;5;129;01mis\u001b[39;00m \u001b[38;5;129;01mnot\u001b[39;00m \u001b[38;5;28;01mNone\u001b[39;00m:\n",
      "File \u001b[0;32m~/anaconda3/envs/ldmx/lib/python3.9/site-packages/pandas/io/parsers/c_parser_wrapper.py:93\u001b[0m, in \u001b[0;36mCParserWrapper.__init__\u001b[0;34m(self, src, **kwds)\u001b[0m\n\u001b[1;32m     90\u001b[0m \u001b[38;5;28;01mif\u001b[39;00m kwds[\u001b[38;5;124m\"\u001b[39m\u001b[38;5;124mdtype_backend\u001b[39m\u001b[38;5;124m\"\u001b[39m] \u001b[38;5;241m==\u001b[39m \u001b[38;5;124m\"\u001b[39m\u001b[38;5;124mpyarrow\u001b[39m\u001b[38;5;124m\"\u001b[39m:\n\u001b[1;32m     91\u001b[0m     \u001b[38;5;66;03m# Fail here loudly instead of in cython after reading\u001b[39;00m\n\u001b[1;32m     92\u001b[0m     import_optional_dependency(\u001b[38;5;124m\"\u001b[39m\u001b[38;5;124mpyarrow\u001b[39m\u001b[38;5;124m\"\u001b[39m)\n\u001b[0;32m---> 93\u001b[0m \u001b[38;5;28mself\u001b[39m\u001b[38;5;241m.\u001b[39m_reader \u001b[38;5;241m=\u001b[39m \u001b[43mparsers\u001b[49m\u001b[38;5;241;43m.\u001b[39;49m\u001b[43mTextReader\u001b[49m\u001b[43m(\u001b[49m\u001b[43msrc\u001b[49m\u001b[43m,\u001b[49m\u001b[43m \u001b[49m\u001b[38;5;241;43m*\u001b[39;49m\u001b[38;5;241;43m*\u001b[39;49m\u001b[43mkwds\u001b[49m\u001b[43m)\u001b[49m\n\u001b[1;32m     95\u001b[0m \u001b[38;5;28mself\u001b[39m\u001b[38;5;241m.\u001b[39munnamed_cols \u001b[38;5;241m=\u001b[39m \u001b[38;5;28mself\u001b[39m\u001b[38;5;241m.\u001b[39m_reader\u001b[38;5;241m.\u001b[39munnamed_cols\n\u001b[1;32m     97\u001b[0m \u001b[38;5;66;03m# error: Cannot determine type of 'names'\u001b[39;00m\n",
      "File \u001b[0;32m~/anaconda3/envs/ldmx/lib/python3.9/site-packages/pandas/_libs/parsers.pyx:550\u001b[0m, in \u001b[0;36mpandas._libs.parsers.TextReader.__cinit__\u001b[0;34m()\u001b[0m\n",
      "File \u001b[0;32m~/anaconda3/envs/ldmx/lib/python3.9/site-packages/pandas/_libs/parsers.pyx:639\u001b[0m, in \u001b[0;36mpandas._libs.parsers.TextReader._get_header\u001b[0;34m()\u001b[0m\n",
      "File \u001b[0;32m~/anaconda3/envs/ldmx/lib/python3.9/site-packages/pandas/_libs/parsers.pyx:850\u001b[0m, in \u001b[0;36mpandas._libs.parsers.TextReader._tokenize_rows\u001b[0;34m()\u001b[0m\n",
      "File \u001b[0;32m~/anaconda3/envs/ldmx/lib/python3.9/site-packages/pandas/_libs/parsers.pyx:861\u001b[0m, in \u001b[0;36mpandas._libs.parsers.TextReader._check_tokenize_status\u001b[0;34m()\u001b[0m\n",
      "File \u001b[0;32m~/anaconda3/envs/ldmx/lib/python3.9/site-packages/pandas/_libs/parsers.pyx:2021\u001b[0m, in \u001b[0;36mpandas._libs.parsers.raise_parser_error\u001b[0;34m()\u001b[0m\n",
      "\u001b[0;31mUnicodeDecodeError\u001b[0m: 'utf-8' codec can't decode byte 0xf3 in position 6: invalid continuation byte"
     ]
    }
   ],
   "source": [
    "df = pd.read_csv('/Users/deep/Documents/mc_v14-4.0GeV-1e-target_photonuclear_run1_t1692626142.root')"
   ]
  },
  {
   "cell_type": "code",
   "execution_count": 13,
   "id": "1be50dcc-f96b-40d7-ae7f-a077eecc60a9",
   "metadata": {},
   "outputs": [],
   "source": [
    "import uproot\n",
    "import matplotlib.pyplot as plt"
   ]
  },
  {
   "cell_type": "code",
   "execution_count": 14,
   "id": "4c32be3d-dad5-4726-8691-0becaa3b44c9",
   "metadata": {},
   "outputs": [],
   "source": [
    "file = uproot.open(\"/Users/deep/Documents/mc_v14-4.0GeV-1e-target_photonuclear_run1_t1692626142.root\")"
   ]
  },
  {
   "cell_type": "code",
   "execution_count": 15,
   "id": "88165a9c-64f1-44ec-90da-751fe279fb34",
   "metadata": {},
   "outputs": [],
   "source": [
    "tmp = \"LDMX_Events\""
   ]
  },
  {
   "cell_type": "code",
   "execution_count": 16,
   "id": "9af88553-5c68-41cd-973d-8347c9dcd9d5",
   "metadata": {},
   "outputs": [],
   "source": [
    "plots = \"EcalRecHits/EcalRecHits.energy_\""
   ]
  },
  {
   "cell_type": "code",
   "execution_count": 17,
   "id": "09b4b166-1f75-45bf-800b-ceb3419c76a4",
   "metadata": {},
   "outputs": [
    {
     "ename": "KeyInFileError",
     "evalue": "not found: 'EcalRecHits/EcalRecHits.energy_'\n\n    Available keys: 'EcalRecHits_sim/EcalRecHits_sim.energy_', 'HcalRecHits_sim/HcalRecHits_sim.energy_', 'EcalRecHits_sim/EcalRecHits_sim.id_', 'EcalRecHits_sim/EcalRecHits_sim.time_', 'EcalRecHits_sim/EcalRecHits_sim.ypos_'...\n\nin file /Users/deep/Documents/mc_v14-4.0GeV-1e-target_photonuclear_run1_t1692626142.root\nin object /LDMX_Events;1",
     "output_type": "error",
     "traceback": [
      "\u001b[0;31m---------------------------------------------------------------------------\u001b[0m",
      "\u001b[0;31mKeyInFileError\u001b[0m                            Traceback (most recent call last)",
      "Cell \u001b[0;32mIn[17], line 1\u001b[0m\n\u001b[0;32m----> 1\u001b[0m data \u001b[38;5;241m=\u001b[39m \u001b[43mfile\u001b[49m\u001b[43m[\u001b[49m\u001b[43mtmp\u001b[49m\u001b[43m]\u001b[49m\u001b[43m[\u001b[49m\u001b[43mplots\u001b[49m\u001b[43m]\u001b[49m\u001b[38;5;241m.\u001b[39marray()\n",
      "File \u001b[0;32m~/anaconda3/envs/ldmx/lib/python3.9/site-packages/uproot/behaviors/TBranch.py:1638\u001b[0m, in \u001b[0;36mHasBranches.__getitem__\u001b[0;34m(self, where)\u001b[0m\n\u001b[1;32m   1636\u001b[0m                 this \u001b[38;5;241m=\u001b[39m this[piece]\n\u001b[1;32m   1637\u001b[0m     \u001b[38;5;28;01mexcept\u001b[39;00m uproot\u001b[38;5;241m.\u001b[39mKeyInFileError:\n\u001b[0;32m-> 1638\u001b[0m         \u001b[38;5;28;01mraise\u001b[39;00m uproot\u001b[38;5;241m.\u001b[39mKeyInFileError(\n\u001b[1;32m   1639\u001b[0m             original_where,\n\u001b[1;32m   1640\u001b[0m             keys\u001b[38;5;241m=\u001b[39m\u001b[38;5;28mself\u001b[39m\u001b[38;5;241m.\u001b[39mkeys(recursive\u001b[38;5;241m=\u001b[39mrecursive),\n\u001b[1;32m   1641\u001b[0m             file_path\u001b[38;5;241m=\u001b[39m\u001b[38;5;28mself\u001b[39m\u001b[38;5;241m.\u001b[39m_file\u001b[38;5;241m.\u001b[39mfile_path,\n\u001b[1;32m   1642\u001b[0m             object_path\u001b[38;5;241m=\u001b[39m\u001b[38;5;28mself\u001b[39m\u001b[38;5;241m.\u001b[39mobject_path,\n\u001b[1;32m   1643\u001b[0m         ) \u001b[38;5;28;01mfrom\u001b[39;00m \u001b[38;5;28;01mNone\u001b[39;00m\n\u001b[1;32m   1644\u001b[0m     \u001b[38;5;28;01mreturn\u001b[39;00m this\n\u001b[1;32m   1646\u001b[0m \u001b[38;5;28;01melif\u001b[39;00m recursive:\n",
      "\u001b[0;31mKeyInFileError\u001b[0m: not found: 'EcalRecHits/EcalRecHits.energy_'\n\n    Available keys: 'EcalRecHits_sim/EcalRecHits_sim.energy_', 'HcalRecHits_sim/HcalRecHits_sim.energy_', 'EcalRecHits_sim/EcalRecHits_sim.id_', 'EcalRecHits_sim/EcalRecHits_sim.time_', 'EcalRecHits_sim/EcalRecHits_sim.ypos_'...\n\nin file /Users/deep/Documents/mc_v14-4.0GeV-1e-target_photonuclear_run1_t1692626142.root\nin object /LDMX_Events;1"
     ]
    }
   ],
   "source": [
    "data = file[tmp][plots].array()\n"
   ]
  },
  {
   "cell_type": "code",
   "execution_count": 18,
   "id": "2cbd0070-f3bb-44a1-9bd8-37357dcde624",
   "metadata": {},
   "outputs": [],
   "source": [
    "plots = \"EcalRecHits_sim/EcalRecHits_sim.energy_\""
   ]
  },
  {
   "cell_type": "code",
   "execution_count": 19,
   "id": "50c756e6-fa7c-443d-aee4-242950abf7f2",
   "metadata": {},
   "outputs": [],
   "source": [
    "data = file[tmp][plots].array()\n"
   ]
  },
  {
   "cell_type": "code",
   "execution_count": 20,
   "id": "6065995a-2f8c-4a0b-ac7b-8197e35f89e1",
   "metadata": {},
   "outputs": [
    {
     "ename": "ValueError",
     "evalue": "cannot convert to RegularArray because subarray lengths are not regular (in compiled code: https://github.com/scikit-hep/awkward/blob/awkward-cpp-22/awkward-cpp/src/cpu-kernels/awkward_ListOffsetArray_toRegularArray.cpp#L22)\n\nThis error occurred while calling\n\n    ak.to_numpy(\n        <Array [[2.61, 8.08, ..., 31, 155], ...] type='1000 * var * float32'>\n        allow_missing = True\n    )",
     "output_type": "error",
     "traceback": [
      "\u001b[0;31m---------------------------------------------------------------------------\u001b[0m",
      "\u001b[0;31mValueError\u001b[0m                                Traceback (most recent call last)",
      "File \u001b[0;32m~/anaconda3/envs/ldmx/lib/python3.9/site-packages/awkward/_dispatch.py:60\u001b[0m, in \u001b[0;36mnamed_high_level_function.<locals>.dispatch\u001b[0;34m(*args, **kwargs)\u001b[0m\n\u001b[1;32m     59\u001b[0m \u001b[38;5;28;01mtry\u001b[39;00m:\n\u001b[0;32m---> 60\u001b[0m     \u001b[38;5;28;43mnext\u001b[39;49m\u001b[43m(\u001b[49m\u001b[43mgen_or_result\u001b[49m\u001b[43m)\u001b[49m\n\u001b[1;32m     61\u001b[0m \u001b[38;5;28;01mexcept\u001b[39;00m \u001b[38;5;167;01mStopIteration\u001b[39;00m \u001b[38;5;28;01mas\u001b[39;00m err:\n",
      "File \u001b[0;32m~/anaconda3/envs/ldmx/lib/python3.9/site-packages/awkward/operations/ak_to_numpy.py:44\u001b[0m, in \u001b[0;36mto_numpy\u001b[0;34m(array, allow_missing)\u001b[0m\n\u001b[1;32m     43\u001b[0m \u001b[38;5;66;03m# Implementation\u001b[39;00m\n\u001b[0;32m---> 44\u001b[0m \u001b[38;5;28;01mreturn\u001b[39;00m \u001b[43m_impl\u001b[49m\u001b[43m(\u001b[49m\u001b[43marray\u001b[49m\u001b[43m,\u001b[49m\u001b[43m \u001b[49m\u001b[43mallow_missing\u001b[49m\u001b[43m)\u001b[49m\n",
      "File \u001b[0;32m~/anaconda3/envs/ldmx/lib/python3.9/site-packages/awkward/operations/ak_to_numpy.py:56\u001b[0m, in \u001b[0;36m_impl\u001b[0;34m(array, allow_missing)\u001b[0m\n\u001b[1;32m     54\u001b[0m numpy_layout \u001b[38;5;241m=\u001b[39m layout\u001b[38;5;241m.\u001b[39mto_backend(backend)\n\u001b[0;32m---> 56\u001b[0m \u001b[38;5;28;01mreturn\u001b[39;00m \u001b[43mnumpy_layout\u001b[49m\u001b[38;5;241;43m.\u001b[39;49m\u001b[43mto_backend_array\u001b[49m\u001b[43m(\u001b[49m\u001b[43mallow_missing\u001b[49m\u001b[38;5;241;43m=\u001b[39;49m\u001b[43mallow_missing\u001b[49m\u001b[43m)\u001b[49m\n",
      "File \u001b[0;32m~/anaconda3/envs/ldmx/lib/python3.9/site-packages/awkward/contents/content.py:1077\u001b[0m, in \u001b[0;36mContent.to_backend_array\u001b[0;34m(self, allow_missing, backend)\u001b[0m\n\u001b[1;32m   1076\u001b[0m     backend \u001b[38;5;241m=\u001b[39m regularize_backend(backend)\n\u001b[0;32m-> 1077\u001b[0m \u001b[38;5;28;01mreturn\u001b[39;00m \u001b[38;5;28;43mself\u001b[39;49m\u001b[38;5;241;43m.\u001b[39;49m\u001b[43m_to_backend_array\u001b[49m\u001b[43m(\u001b[49m\u001b[43mallow_missing\u001b[49m\u001b[43m,\u001b[49m\u001b[43m \u001b[49m\u001b[43mbackend\u001b[49m\u001b[43m)\u001b[49m\n",
      "File \u001b[0;32m~/anaconda3/envs/ldmx/lib/python3.9/site-packages/awkward/contents/listoffsetarray.py:2056\u001b[0m, in \u001b[0;36mListOffsetArray._to_backend_array\u001b[0;34m(self, allow_missing, backend)\u001b[0m\n\u001b[1;32m   2055\u001b[0m \u001b[38;5;28;01melse\u001b[39;00m:\n\u001b[0;32m-> 2056\u001b[0m     \u001b[38;5;28;01mreturn\u001b[39;00m \u001b[38;5;28;43mself\u001b[39;49m\u001b[38;5;241;43m.\u001b[39;49m\u001b[43mto_RegularArray\u001b[49m\u001b[43m(\u001b[49m\u001b[43m)\u001b[49m\u001b[38;5;241m.\u001b[39m_to_backend_array(allow_missing, backend)\n",
      "File \u001b[0;32m~/anaconda3/envs/ldmx/lib/python3.9/site-packages/awkward/contents/listoffsetarray.py:273\u001b[0m, in \u001b[0;36mListOffsetArray.to_RegularArray\u001b[0;34m(self)\u001b[0m\n\u001b[1;32m    269\u001b[0m \u001b[38;5;28;01massert\u001b[39;00m (\n\u001b[1;32m    270\u001b[0m     _size\u001b[38;5;241m.\u001b[39mnplike \u001b[38;5;129;01mis\u001b[39;00m \u001b[38;5;28mself\u001b[39m\u001b[38;5;241m.\u001b[39m_backend\u001b[38;5;241m.\u001b[39mindex_nplike\n\u001b[1;32m    271\u001b[0m     \u001b[38;5;129;01mand\u001b[39;00m \u001b[38;5;28mself\u001b[39m\u001b[38;5;241m.\u001b[39m_offsets\u001b[38;5;241m.\u001b[39mnplike \u001b[38;5;129;01mis\u001b[39;00m \u001b[38;5;28mself\u001b[39m\u001b[38;5;241m.\u001b[39m_backend\u001b[38;5;241m.\u001b[39mindex_nplike\n\u001b[1;32m    272\u001b[0m )\n\u001b[0;32m--> 273\u001b[0m \u001b[38;5;28;43mself\u001b[39;49m\u001b[38;5;241;43m.\u001b[39;49m\u001b[43m_backend\u001b[49m\u001b[38;5;241;43m.\u001b[39;49m\u001b[43mmaybe_kernel_error\u001b[49m\u001b[43m(\u001b[49m\n\u001b[1;32m    274\u001b[0m \u001b[43m    \u001b[49m\u001b[38;5;28;43mself\u001b[39;49m\u001b[38;5;241;43m.\u001b[39;49m\u001b[43m_backend\u001b[49m\u001b[43m[\u001b[49m\n\u001b[1;32m    275\u001b[0m \u001b[43m        \u001b[49m\u001b[38;5;124;43m\"\u001b[39;49m\u001b[38;5;124;43mawkward_ListOffsetArray_toRegularArray\u001b[39;49m\u001b[38;5;124;43m\"\u001b[39;49m\u001b[43m,\u001b[49m\n\u001b[1;32m    276\u001b[0m \u001b[43m        \u001b[49m\u001b[43m_size\u001b[49m\u001b[38;5;241;43m.\u001b[39;49m\u001b[43mdtype\u001b[49m\u001b[38;5;241;43m.\u001b[39;49m\u001b[43mtype\u001b[49m\u001b[43m,\u001b[49m\n\u001b[1;32m    277\u001b[0m \u001b[43m        \u001b[49m\u001b[38;5;28;43mself\u001b[39;49m\u001b[38;5;241;43m.\u001b[39;49m\u001b[43m_offsets\u001b[49m\u001b[38;5;241;43m.\u001b[39;49m\u001b[43mdtype\u001b[49m\u001b[38;5;241;43m.\u001b[39;49m\u001b[43mtype\u001b[49m\u001b[43m,\u001b[49m\n\u001b[1;32m    278\u001b[0m \u001b[43m    \u001b[49m\u001b[43m]\u001b[49m\u001b[43m(\u001b[49m\n\u001b[1;32m    279\u001b[0m \u001b[43m        \u001b[49m\u001b[43m_size\u001b[49m\u001b[38;5;241;43m.\u001b[39;49m\u001b[43mdata\u001b[49m\u001b[43m,\u001b[49m\n\u001b[1;32m    280\u001b[0m \u001b[43m        \u001b[49m\u001b[38;5;28;43mself\u001b[39;49m\u001b[38;5;241;43m.\u001b[39;49m\u001b[43m_offsets\u001b[49m\u001b[38;5;241;43m.\u001b[39;49m\u001b[43mdata\u001b[49m\u001b[43m,\u001b[49m\n\u001b[1;32m    281\u001b[0m \u001b[43m        \u001b[49m\u001b[38;5;28;43mself\u001b[39;49m\u001b[38;5;241;43m.\u001b[39;49m\u001b[43m_offsets\u001b[49m\u001b[38;5;241;43m.\u001b[39;49m\u001b[43mlength\u001b[49m\u001b[43m,\u001b[49m\n\u001b[1;32m    282\u001b[0m \u001b[43m    \u001b[49m\u001b[43m)\u001b[49m\n\u001b[1;32m    283\u001b[0m \u001b[43m\u001b[49m\u001b[43m)\u001b[49m\n\u001b[1;32m    284\u001b[0m size \u001b[38;5;241m=\u001b[39m \u001b[38;5;28mself\u001b[39m\u001b[38;5;241m.\u001b[39m_backend\u001b[38;5;241m.\u001b[39mindex_nplike\u001b[38;5;241m.\u001b[39mindex_as_shape_item(_size[\u001b[38;5;241m0\u001b[39m])\n",
      "File \u001b[0;32m~/anaconda3/envs/ldmx/lib/python3.9/site-packages/awkward/_backends/backend.py:72\u001b[0m, in \u001b[0;36mBackend.maybe_kernel_error\u001b[0;34m(self, error)\u001b[0m\n\u001b[1;32m     71\u001b[0m \u001b[38;5;28;01melse\u001b[39;00m:\n\u001b[0;32m---> 72\u001b[0m     \u001b[38;5;28;01mraise\u001b[39;00m \u001b[38;5;167;01mValueError\u001b[39;00m(\u001b[38;5;28mself\u001b[39m\u001b[38;5;241m.\u001b[39mformat_kernel_error(error))\n",
      "\u001b[0;31mValueError\u001b[0m: cannot convert to RegularArray because subarray lengths are not regular (in compiled code: https://github.com/scikit-hep/awkward/blob/awkward-cpp-22/awkward-cpp/src/cpu-kernels/awkward_ListOffsetArray_toRegularArray.cpp#L22)",
      "\nThe above exception was the direct cause of the following exception:\n",
      "\u001b[0;31mValueError\u001b[0m                                Traceback (most recent call last)",
      "Cell \u001b[0;32mIn[20], line 1\u001b[0m\n\u001b[0;32m----> 1\u001b[0m \u001b[43mplt\u001b[49m\u001b[38;5;241;43m.\u001b[39;49m\u001b[43mhist\u001b[49m\u001b[43m(\u001b[49m\u001b[43mdata\u001b[49m\u001b[43m,\u001b[49m\u001b[43m \u001b[49m\u001b[43mbins\u001b[49m\u001b[38;5;241;43m=\u001b[39;49m\u001b[38;5;241;43m25\u001b[39;49m\u001b[43m,\u001b[49m\u001b[43m \u001b[49m\u001b[43mcolor\u001b[49m\u001b[38;5;241;43m=\u001b[39;49m\u001b[38;5;124;43m'\u001b[39;49m\u001b[38;5;124;43mblue\u001b[39;49m\u001b[38;5;124;43m'\u001b[39;49m\u001b[43m,\u001b[49m\u001b[43m \u001b[49m\u001b[43medgecolor\u001b[49m\u001b[38;5;241;43m=\u001b[39;49m\u001b[38;5;124;43m'\u001b[39;49m\u001b[38;5;124;43mblack\u001b[39;49m\u001b[38;5;124;43m'\u001b[39;49m\u001b[43m)\u001b[49m\n",
      "File \u001b[0;32m~/anaconda3/envs/ldmx/lib/python3.9/site-packages/matplotlib/pyplot.py:2645\u001b[0m, in \u001b[0;36mhist\u001b[0;34m(x, bins, range, density, weights, cumulative, bottom, histtype, align, orientation, rwidth, log, color, label, stacked, data, **kwargs)\u001b[0m\n\u001b[1;32m   2639\u001b[0m \u001b[38;5;129m@_copy_docstring_and_deprecators\u001b[39m(Axes\u001b[38;5;241m.\u001b[39mhist)\n\u001b[1;32m   2640\u001b[0m \u001b[38;5;28;01mdef\u001b[39;00m \u001b[38;5;21mhist\u001b[39m(\n\u001b[1;32m   2641\u001b[0m         x, bins\u001b[38;5;241m=\u001b[39m\u001b[38;5;28;01mNone\u001b[39;00m, \u001b[38;5;28mrange\u001b[39m\u001b[38;5;241m=\u001b[39m\u001b[38;5;28;01mNone\u001b[39;00m, density\u001b[38;5;241m=\u001b[39m\u001b[38;5;28;01mFalse\u001b[39;00m, weights\u001b[38;5;241m=\u001b[39m\u001b[38;5;28;01mNone\u001b[39;00m,\n\u001b[1;32m   2642\u001b[0m         cumulative\u001b[38;5;241m=\u001b[39m\u001b[38;5;28;01mFalse\u001b[39;00m, bottom\u001b[38;5;241m=\u001b[39m\u001b[38;5;28;01mNone\u001b[39;00m, histtype\u001b[38;5;241m=\u001b[39m\u001b[38;5;124m'\u001b[39m\u001b[38;5;124mbar\u001b[39m\u001b[38;5;124m'\u001b[39m, align\u001b[38;5;241m=\u001b[39m\u001b[38;5;124m'\u001b[39m\u001b[38;5;124mmid\u001b[39m\u001b[38;5;124m'\u001b[39m,\n\u001b[1;32m   2643\u001b[0m         orientation\u001b[38;5;241m=\u001b[39m\u001b[38;5;124m'\u001b[39m\u001b[38;5;124mvertical\u001b[39m\u001b[38;5;124m'\u001b[39m, rwidth\u001b[38;5;241m=\u001b[39m\u001b[38;5;28;01mNone\u001b[39;00m, log\u001b[38;5;241m=\u001b[39m\u001b[38;5;28;01mFalse\u001b[39;00m, color\u001b[38;5;241m=\u001b[39m\u001b[38;5;28;01mNone\u001b[39;00m,\n\u001b[1;32m   2644\u001b[0m         label\u001b[38;5;241m=\u001b[39m\u001b[38;5;28;01mNone\u001b[39;00m, stacked\u001b[38;5;241m=\u001b[39m\u001b[38;5;28;01mFalse\u001b[39;00m, \u001b[38;5;241m*\u001b[39m, data\u001b[38;5;241m=\u001b[39m\u001b[38;5;28;01mNone\u001b[39;00m, \u001b[38;5;241m*\u001b[39m\u001b[38;5;241m*\u001b[39mkwargs):\n\u001b[0;32m-> 2645\u001b[0m     \u001b[38;5;28;01mreturn\u001b[39;00m \u001b[43mgca\u001b[49m\u001b[43m(\u001b[49m\u001b[43m)\u001b[49m\u001b[38;5;241;43m.\u001b[39;49m\u001b[43mhist\u001b[49m\u001b[43m(\u001b[49m\n\u001b[1;32m   2646\u001b[0m \u001b[43m        \u001b[49m\u001b[43mx\u001b[49m\u001b[43m,\u001b[49m\u001b[43m \u001b[49m\u001b[43mbins\u001b[49m\u001b[38;5;241;43m=\u001b[39;49m\u001b[43mbins\u001b[49m\u001b[43m,\u001b[49m\u001b[43m \u001b[49m\u001b[38;5;28;43mrange\u001b[39;49m\u001b[38;5;241;43m=\u001b[39;49m\u001b[38;5;28;43mrange\u001b[39;49m\u001b[43m,\u001b[49m\u001b[43m \u001b[49m\u001b[43mdensity\u001b[49m\u001b[38;5;241;43m=\u001b[39;49m\u001b[43mdensity\u001b[49m\u001b[43m,\u001b[49m\u001b[43m \u001b[49m\u001b[43mweights\u001b[49m\u001b[38;5;241;43m=\u001b[39;49m\u001b[43mweights\u001b[49m\u001b[43m,\u001b[49m\n\u001b[1;32m   2647\u001b[0m \u001b[43m        \u001b[49m\u001b[43mcumulative\u001b[49m\u001b[38;5;241;43m=\u001b[39;49m\u001b[43mcumulative\u001b[49m\u001b[43m,\u001b[49m\u001b[43m \u001b[49m\u001b[43mbottom\u001b[49m\u001b[38;5;241;43m=\u001b[39;49m\u001b[43mbottom\u001b[49m\u001b[43m,\u001b[49m\u001b[43m \u001b[49m\u001b[43mhisttype\u001b[49m\u001b[38;5;241;43m=\u001b[39;49m\u001b[43mhisttype\u001b[49m\u001b[43m,\u001b[49m\n\u001b[1;32m   2648\u001b[0m \u001b[43m        \u001b[49m\u001b[43malign\u001b[49m\u001b[38;5;241;43m=\u001b[39;49m\u001b[43malign\u001b[49m\u001b[43m,\u001b[49m\u001b[43m \u001b[49m\u001b[43morientation\u001b[49m\u001b[38;5;241;43m=\u001b[39;49m\u001b[43morientation\u001b[49m\u001b[43m,\u001b[49m\u001b[43m \u001b[49m\u001b[43mrwidth\u001b[49m\u001b[38;5;241;43m=\u001b[39;49m\u001b[43mrwidth\u001b[49m\u001b[43m,\u001b[49m\u001b[43m \u001b[49m\u001b[43mlog\u001b[49m\u001b[38;5;241;43m=\u001b[39;49m\u001b[43mlog\u001b[49m\u001b[43m,\u001b[49m\n\u001b[1;32m   2649\u001b[0m \u001b[43m        \u001b[49m\u001b[43mcolor\u001b[49m\u001b[38;5;241;43m=\u001b[39;49m\u001b[43mcolor\u001b[49m\u001b[43m,\u001b[49m\u001b[43m \u001b[49m\u001b[43mlabel\u001b[49m\u001b[38;5;241;43m=\u001b[39;49m\u001b[43mlabel\u001b[49m\u001b[43m,\u001b[49m\u001b[43m \u001b[49m\u001b[43mstacked\u001b[49m\u001b[38;5;241;43m=\u001b[39;49m\u001b[43mstacked\u001b[49m\u001b[43m,\u001b[49m\n\u001b[1;32m   2650\u001b[0m \u001b[43m        \u001b[49m\u001b[38;5;241;43m*\u001b[39;49m\u001b[38;5;241;43m*\u001b[39;49m\u001b[43m(\u001b[49m\u001b[43m{\u001b[49m\u001b[38;5;124;43m\"\u001b[39;49m\u001b[38;5;124;43mdata\u001b[39;49m\u001b[38;5;124;43m\"\u001b[39;49m\u001b[43m:\u001b[49m\u001b[43m \u001b[49m\u001b[43mdata\u001b[49m\u001b[43m}\u001b[49m\u001b[43m \u001b[49m\u001b[38;5;28;43;01mif\u001b[39;49;00m\u001b[43m \u001b[49m\u001b[43mdata\u001b[49m\u001b[43m \u001b[49m\u001b[38;5;129;43;01mis\u001b[39;49;00m\u001b[43m \u001b[49m\u001b[38;5;129;43;01mnot\u001b[39;49;00m\u001b[43m \u001b[49m\u001b[38;5;28;43;01mNone\u001b[39;49;00m\u001b[43m \u001b[49m\u001b[38;5;28;43;01melse\u001b[39;49;00m\u001b[43m \u001b[49m\u001b[43m{\u001b[49m\u001b[43m}\u001b[49m\u001b[43m)\u001b[49m\u001b[43m,\u001b[49m\u001b[43m \u001b[49m\u001b[38;5;241;43m*\u001b[39;49m\u001b[38;5;241;43m*\u001b[39;49m\u001b[43mkwargs\u001b[49m\u001b[43m)\u001b[49m\n",
      "File \u001b[0;32m~/anaconda3/envs/ldmx/lib/python3.9/site-packages/matplotlib/__init__.py:1446\u001b[0m, in \u001b[0;36m_preprocess_data.<locals>.inner\u001b[0;34m(ax, data, *args, **kwargs)\u001b[0m\n\u001b[1;32m   1443\u001b[0m \u001b[38;5;129m@functools\u001b[39m\u001b[38;5;241m.\u001b[39mwraps(func)\n\u001b[1;32m   1444\u001b[0m \u001b[38;5;28;01mdef\u001b[39;00m \u001b[38;5;21minner\u001b[39m(ax, \u001b[38;5;241m*\u001b[39margs, data\u001b[38;5;241m=\u001b[39m\u001b[38;5;28;01mNone\u001b[39;00m, \u001b[38;5;241m*\u001b[39m\u001b[38;5;241m*\u001b[39mkwargs):\n\u001b[1;32m   1445\u001b[0m     \u001b[38;5;28;01mif\u001b[39;00m data \u001b[38;5;129;01mis\u001b[39;00m \u001b[38;5;28;01mNone\u001b[39;00m:\n\u001b[0;32m-> 1446\u001b[0m         \u001b[38;5;28;01mreturn\u001b[39;00m \u001b[43mfunc\u001b[49m\u001b[43m(\u001b[49m\u001b[43max\u001b[49m\u001b[43m,\u001b[49m\u001b[43m \u001b[49m\u001b[38;5;241;43m*\u001b[39;49m\u001b[38;5;28;43mmap\u001b[39;49m\u001b[43m(\u001b[49m\u001b[43msanitize_sequence\u001b[49m\u001b[43m,\u001b[49m\u001b[43m \u001b[49m\u001b[43margs\u001b[49m\u001b[43m)\u001b[49m\u001b[43m,\u001b[49m\u001b[43m \u001b[49m\u001b[38;5;241;43m*\u001b[39;49m\u001b[38;5;241;43m*\u001b[39;49m\u001b[43mkwargs\u001b[49m\u001b[43m)\u001b[49m\n\u001b[1;32m   1448\u001b[0m     bound \u001b[38;5;241m=\u001b[39m new_sig\u001b[38;5;241m.\u001b[39mbind(ax, \u001b[38;5;241m*\u001b[39margs, \u001b[38;5;241m*\u001b[39m\u001b[38;5;241m*\u001b[39mkwargs)\n\u001b[1;32m   1449\u001b[0m     auto_label \u001b[38;5;241m=\u001b[39m (bound\u001b[38;5;241m.\u001b[39marguments\u001b[38;5;241m.\u001b[39mget(label_namer)\n\u001b[1;32m   1450\u001b[0m                   \u001b[38;5;129;01mor\u001b[39;00m bound\u001b[38;5;241m.\u001b[39mkwargs\u001b[38;5;241m.\u001b[39mget(label_namer))\n",
      "File \u001b[0;32m~/anaconda3/envs/ldmx/lib/python3.9/site-packages/matplotlib/axes/_axes.py:6704\u001b[0m, in \u001b[0;36mAxes.hist\u001b[0;34m(self, x, bins, range, density, weights, cumulative, bottom, histtype, align, orientation, rwidth, log, color, label, stacked, **kwargs)\u001b[0m\n\u001b[1;32m   6701\u001b[0m     stacked \u001b[38;5;241m=\u001b[39m \u001b[38;5;28;01mTrue\u001b[39;00m\n\u001b[1;32m   6703\u001b[0m \u001b[38;5;66;03m# Massage 'x' for processing.\u001b[39;00m\n\u001b[0;32m-> 6704\u001b[0m x \u001b[38;5;241m=\u001b[39m \u001b[43mcbook\u001b[49m\u001b[38;5;241;43m.\u001b[39;49m\u001b[43m_reshape_2D\u001b[49m\u001b[43m(\u001b[49m\u001b[43mx\u001b[49m\u001b[43m,\u001b[49m\u001b[43m \u001b[49m\u001b[38;5;124;43m'\u001b[39;49m\u001b[38;5;124;43mx\u001b[39;49m\u001b[38;5;124;43m'\u001b[39;49m\u001b[43m)\u001b[49m\n\u001b[1;32m   6705\u001b[0m nx \u001b[38;5;241m=\u001b[39m \u001b[38;5;28mlen\u001b[39m(x)  \u001b[38;5;66;03m# number of datasets\u001b[39;00m\n\u001b[1;32m   6707\u001b[0m \u001b[38;5;66;03m# Process unit information.  _process_unit_info sets the unit and\u001b[39;00m\n\u001b[1;32m   6708\u001b[0m \u001b[38;5;66;03m# converts the first dataset; then we convert each following dataset\u001b[39;00m\n\u001b[1;32m   6709\u001b[0m \u001b[38;5;66;03m# one at a time.\u001b[39;00m\n",
      "File \u001b[0;32m~/anaconda3/envs/ldmx/lib/python3.9/site-packages/matplotlib/cbook/__init__.py:1371\u001b[0m, in \u001b[0;36m_reshape_2D\u001b[0;34m(X, name)\u001b[0m\n\u001b[1;32m   1359\u001b[0m \u001b[38;5;250m\u001b[39m\u001b[38;5;124;03m\"\"\"\u001b[39;00m\n\u001b[1;32m   1360\u001b[0m \u001b[38;5;124;03mUse Fortran ordering to convert ndarrays and lists of iterables to lists of\u001b[39;00m\n\u001b[1;32m   1361\u001b[0m \u001b[38;5;124;03m1D arrays.\u001b[39;00m\n\u001b[0;32m   (...)\u001b[0m\n\u001b[1;32m   1367\u001b[0m \u001b[38;5;124;03m*name* is used to generate the error message for invalid inputs.\u001b[39;00m\n\u001b[1;32m   1368\u001b[0m \u001b[38;5;124;03m\"\"\"\u001b[39;00m\n\u001b[1;32m   1370\u001b[0m \u001b[38;5;66;03m# Unpack in case of e.g. Pandas or xarray object\u001b[39;00m\n\u001b[0;32m-> 1371\u001b[0m X \u001b[38;5;241m=\u001b[39m \u001b[43m_unpack_to_numpy\u001b[49m\u001b[43m(\u001b[49m\u001b[43mX\u001b[49m\u001b[43m)\u001b[49m\n\u001b[1;32m   1373\u001b[0m \u001b[38;5;66;03m# Iterate over columns for ndarrays.\u001b[39;00m\n\u001b[1;32m   1374\u001b[0m \u001b[38;5;28;01mif\u001b[39;00m \u001b[38;5;28misinstance\u001b[39m(X, np\u001b[38;5;241m.\u001b[39mndarray):\n",
      "File \u001b[0;32m~/anaconda3/envs/ldmx/lib/python3.9/site-packages/matplotlib/cbook/__init__.py:2302\u001b[0m, in \u001b[0;36m_unpack_to_numpy\u001b[0;34m(x)\u001b[0m\n\u001b[1;32m   2299\u001b[0m     \u001b[38;5;28;01mreturn\u001b[39;00m x\n\u001b[1;32m   2300\u001b[0m \u001b[38;5;28;01mif\u001b[39;00m \u001b[38;5;28mhasattr\u001b[39m(x, \u001b[38;5;124m'\u001b[39m\u001b[38;5;124mto_numpy\u001b[39m\u001b[38;5;124m'\u001b[39m):\n\u001b[1;32m   2301\u001b[0m     \u001b[38;5;66;03m# Assume that any function to_numpy() do actually return a numpy array\u001b[39;00m\n\u001b[0;32m-> 2302\u001b[0m     \u001b[38;5;28;01mreturn\u001b[39;00m \u001b[43mx\u001b[49m\u001b[38;5;241;43m.\u001b[39;49m\u001b[43mto_numpy\u001b[49m\u001b[43m(\u001b[49m\u001b[43m)\u001b[49m\n\u001b[1;32m   2303\u001b[0m \u001b[38;5;28;01mif\u001b[39;00m \u001b[38;5;28mhasattr\u001b[39m(x, \u001b[38;5;124m'\u001b[39m\u001b[38;5;124mvalues\u001b[39m\u001b[38;5;124m'\u001b[39m):\n\u001b[1;32m   2304\u001b[0m     xtmp \u001b[38;5;241m=\u001b[39m x\u001b[38;5;241m.\u001b[39mvalues\n",
      "File \u001b[0;32m~/anaconda3/envs/ldmx/lib/python3.9/site-packages/awkward/highlevel.py:439\u001b[0m, in \u001b[0;36mArray.to_numpy\u001b[0;34m(self, allow_missing)\u001b[0m\n\u001b[1;32m    435\u001b[0m \u001b[38;5;28;01mdef\u001b[39;00m \u001b[38;5;21mto_numpy\u001b[39m(\u001b[38;5;28mself\u001b[39m, allow_missing\u001b[38;5;241m=\u001b[39m\u001b[38;5;28;01mTrue\u001b[39;00m):\n\u001b[1;32m    436\u001b[0m \u001b[38;5;250m    \u001b[39m\u001b[38;5;124;03m\"\"\"\u001b[39;00m\n\u001b[1;32m    437\u001b[0m \u001b[38;5;124;03m    Converts this Array into a NumPy array, if possible; same as #ak.to_numpy.\u001b[39;00m\n\u001b[1;32m    438\u001b[0m \u001b[38;5;124;03m    \"\"\"\u001b[39;00m\n\u001b[0;32m--> 439\u001b[0m     \u001b[38;5;28;01mreturn\u001b[39;00m \u001b[43mak\u001b[49m\u001b[38;5;241;43m.\u001b[39;49m\u001b[43moperations\u001b[49m\u001b[38;5;241;43m.\u001b[39;49m\u001b[43mto_numpy\u001b[49m\u001b[43m(\u001b[49m\u001b[38;5;28;43mself\u001b[39;49m\u001b[43m,\u001b[49m\u001b[43m \u001b[49m\u001b[43mallow_missing\u001b[49m\u001b[38;5;241;43m=\u001b[39;49m\u001b[43mallow_missing\u001b[49m\u001b[43m)\u001b[49m\n",
      "File \u001b[0;32m~/anaconda3/envs/ldmx/lib/python3.9/site-packages/awkward/_dispatch.py:68\u001b[0m, in \u001b[0;36mnamed_high_level_function.<locals>.dispatch\u001b[0;34m(*args, **kwargs)\u001b[0m\n\u001b[1;32m     63\u001b[0m     \u001b[38;5;28;01melse\u001b[39;00m:\n\u001b[1;32m     64\u001b[0m         \u001b[38;5;28;01mraise\u001b[39;00m \u001b[38;5;167;01mAssertionError\u001b[39;00m(\n\u001b[1;32m     65\u001b[0m             \u001b[38;5;124m\"\u001b[39m\u001b[38;5;124mhigh-level functions should only implement a single yield statement\u001b[39m\u001b[38;5;124m\"\u001b[39m\n\u001b[1;32m     66\u001b[0m         )\n\u001b[0;32m---> 68\u001b[0m \u001b[38;5;28;01mreturn\u001b[39;00m gen_or_result\n",
      "File \u001b[0;32m~/anaconda3/envs/ldmx/lib/python3.9/site-packages/awkward/_errors.py:67\u001b[0m, in \u001b[0;36mErrorContext.__exit__\u001b[0;34m(self, exception_type, exception_value, traceback)\u001b[0m\n\u001b[1;32m     60\u001b[0m \u001b[38;5;28;01mtry\u001b[39;00m:\n\u001b[1;32m     61\u001b[0m     \u001b[38;5;66;03m# Handle caught exception\u001b[39;00m\n\u001b[1;32m     62\u001b[0m     \u001b[38;5;28;01mif\u001b[39;00m (\n\u001b[1;32m     63\u001b[0m         exception_type \u001b[38;5;129;01mis\u001b[39;00m \u001b[38;5;129;01mnot\u001b[39;00m \u001b[38;5;28;01mNone\u001b[39;00m\n\u001b[1;32m     64\u001b[0m         \u001b[38;5;129;01mand\u001b[39;00m \u001b[38;5;28missubclass\u001b[39m(exception_type, \u001b[38;5;167;01mException\u001b[39;00m)\n\u001b[1;32m     65\u001b[0m         \u001b[38;5;129;01mand\u001b[39;00m \u001b[38;5;28mself\u001b[39m\u001b[38;5;241m.\u001b[39mprimary() \u001b[38;5;129;01mis\u001b[39;00m \u001b[38;5;28mself\u001b[39m\n\u001b[1;32m     66\u001b[0m     ):\n\u001b[0;32m---> 67\u001b[0m         \u001b[38;5;28;43mself\u001b[39;49m\u001b[38;5;241;43m.\u001b[39;49m\u001b[43mhandle_exception\u001b[49m\u001b[43m(\u001b[49m\u001b[43mexception_type\u001b[49m\u001b[43m,\u001b[49m\u001b[43m \u001b[49m\u001b[43mexception_value\u001b[49m\u001b[43m)\u001b[49m\n\u001b[1;32m     68\u001b[0m \u001b[38;5;28;01mfinally\u001b[39;00m:\n\u001b[1;32m     69\u001b[0m     \u001b[38;5;66;03m# `_kwargs` may hold cyclic references, that we really want to avoid\u001b[39;00m\n\u001b[1;32m     70\u001b[0m     \u001b[38;5;66;03m# as this can lead to large buffers remaining in memory for longer than absolutely necessary\u001b[39;00m\n\u001b[1;32m     71\u001b[0m     \u001b[38;5;66;03m# Let's just clear this, now.\u001b[39;00m\n\u001b[1;32m     72\u001b[0m     \u001b[38;5;28mself\u001b[39m\u001b[38;5;241m.\u001b[39m_kwargs\u001b[38;5;241m.\u001b[39mclear()\n",
      "File \u001b[0;32m~/anaconda3/envs/ldmx/lib/python3.9/site-packages/awkward/_errors.py:82\u001b[0m, in \u001b[0;36mErrorContext.handle_exception\u001b[0;34m(self, cls, exception)\u001b[0m\n\u001b[1;32m     80\u001b[0m     \u001b[38;5;28mself\u001b[39m\u001b[38;5;241m.\u001b[39mdecorate_exception(\u001b[38;5;28mcls\u001b[39m, exception)\n\u001b[1;32m     81\u001b[0m \u001b[38;5;28;01melse\u001b[39;00m:\n\u001b[0;32m---> 82\u001b[0m     \u001b[38;5;28;01mraise\u001b[39;00m \u001b[38;5;28mself\u001b[39m\u001b[38;5;241m.\u001b[39mdecorate_exception(\u001b[38;5;28mcls\u001b[39m, exception)\n",
      "\u001b[0;31mValueError\u001b[0m: cannot convert to RegularArray because subarray lengths are not regular (in compiled code: https://github.com/scikit-hep/awkward/blob/awkward-cpp-22/awkward-cpp/src/cpu-kernels/awkward_ListOffsetArray_toRegularArray.cpp#L22)\n\nThis error occurred while calling\n\n    ak.to_numpy(\n        <Array [[2.61, 8.08, ..., 31, 155], ...] type='1000 * var * float32'>\n        allow_missing = True\n    )"
     ]
    },
    {
     "data": {
      "image/png": "[encoded data removed]",
      "text/plain": [
       "<Figure size 432x288 with 1 Axes>"
      ]
     },
     "metadata": {
      "needs_background": "light"
     },
     "output_type": "display_data"
    }
   ],
   "source": [
    "plt.hist(data, bins=25, color='blue', edgecolor='black')\n"
   ]
  },
  {
   "cell_type": "code",
   "execution_count": 22,
   "id": "87fa9432-f170-4ee3-b50e-fab23adcd5b0",
   "metadata": {},
   "outputs": [],
   "source": [
    "data = file[tmp][plots].array()\n"
   ]
  },
  {
   "cell_type": "code",
   "execution_count": 23,
   "id": "c4accf86-000b-47d2-8e20-843ec4013fee",
   "metadata": {},
   "outputs": [],
   "source": [
    "flat_data = [x for sublist in data for x in sublist]"
   ]
  },
  {
   "cell_type": "code",
   "execution_count": 24,
   "id": "0ecd90fb-a455-46a6-8728-a76ec583d4a2",
   "metadata": {},
   "outputs": [
    {
     "data": {
      "text/plain": [
       "(array([5.1351e+04, 1.8566e+04, 7.4150e+03, 3.5910e+03, 2.0430e+03,\n",
       "        1.2260e+03, 7.9600e+02, 5.3000e+02, 3.9900e+02, 2.4200e+02,\n",
       "        1.2400e+02, 1.1200e+02, 6.7000e+01, 3.6000e+01, 2.7000e+01,\n",
       "        1.4000e+01, 9.0000e+00, 3.0000e+00, 7.0000e+00, 3.0000e+00,\n",
       "        3.0000e+00, 2.0000e+00, 0.0000e+00, 0.0000e+00, 1.0000e+00]),\n",
       " array([3.92067969e-01, 3.44236832e+01, 6.84552994e+01, 1.02486916e+02,\n",
       "        1.36518524e+02, 1.70550140e+02, 2.04581757e+02, 2.38613373e+02,\n",
       "        2.72644989e+02, 3.06676605e+02, 3.40708221e+02, 3.74739838e+02,\n",
       "        4.08771454e+02, 4.42803070e+02, 4.76834686e+02, 5.10866302e+02,\n",
       "        5.44897888e+02, 5.78929504e+02, 6.12961121e+02, 6.46992737e+02,\n",
       "        6.81024353e+02, 7.15055969e+02, 7.49087585e+02, 7.83119202e+02,\n",
       "        8.17150818e+02, 8.51182434e+02]),\n",
       " <BarContainer object of 25 artists>)"
      ]
     },
     "execution_count": 24,
     "metadata": {},
     "output_type": "execute_result"
    },
    {
     "data": {
      "image/png": "[encoded data removed]",
      "text/plain": [
       "<Figure size 432x288 with 1 Axes>"
      ]
     },
     "metadata": {
      "needs_background": "light"
     },
     "output_type": "display_data"
    }
   ],
   "source": [
    "plt.hist(flat_data, bins=25, color='blue', edgecolor='black')\n"
   ]
  },
  {
   "cell_type": "code",
   "execution_count": 25,
   "id": "143860cb-31fe-47dc-892b-cb95d6e0b931",
   "metadata": {},
   "outputs": [],
   "source": [
    "file =uproot.open(\"/Users/deep/Documents/mc_v14-4.0GeV-1e-target_photonuclear_run1_t1692626142.root\")\n"
   ]
  },
  {
   "cell_type": "code",
   "execution_count": null,
   "id": "ccc66b93-b31b-4c44-aa53-ea630605b7b8",
   "metadata": {},
   "outputs": [],
   "source": []
  }
 ],
 "metadata": {
  "kernelspec": {
   "display_name": "Python 3",
   "language": "python",
   "name": "python3"
  },
  "language_info": {
   "codemirror_mode": {
    "name": "ipython",
    "version": 3
   },
   "file_extension": ".py",
   "mimetype": "text/x-python",
   "name": "python",
   "nbconvert_exporter": "python",
   "pygments_lexer": "ipython3",
   "version": "3.9.17"
  }
 },
 "nbformat": 4,
 "nbformat_minor": 5
}
